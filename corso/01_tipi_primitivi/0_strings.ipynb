{
 "cells": [
  {
   "cell_type": "markdown",
   "metadata": {},
   "source": [
    "# Python Strings"
   ]
  },
  {
   "cell_type": "markdown",
   "metadata": {},
   "source": [
    "## Formattazione stringhe di testo"
   ]
  },
  {
   "cell_type": "code",
   "execution_count": 3,
   "metadata": {},
   "outputs": [
    {
     "name": "stdout",
     "output_type": "stream",
     "text": [
      "hello mario rossi!\n",
      "hello mario rossi!\n",
      "hello mario rossi!\n"
     ]
    }
   ],
   "source": [
    "# valorizzazione di 2 variabili\n",
    "name = \"mario\"\n",
    "surname = \"rossi\"\n",
    "\n",
    "# print utilizzando .format() e lista di argomenti\n",
    "print(\"hello {} {}!\".format(name, surname))\n",
    "\n",
    "# print utilizzando .format() con parametri nominali\n",
    "print(\"hello {name} {surname}!\".format(name=name, surname=surname))\n",
    "\n",
    "# print utilizzando f-strings\n",
    "print(f\"hello {name} {surname}!\")"
   ]
  },
  {
   "cell_type": "markdown",
   "metadata": {},
   "source": [
    "### funzioni delle stringhe"
   ]
  },
  {
   "cell_type": "code",
   "execution_count": 10,
   "metadata": {},
   "outputs": [
    {
     "name": "stdout",
     "output_type": "stream",
     "text": [
      "il femminile di mario corrisponde a maria\n",
      "ciao\n",
      "ciao\n",
      "ciao\n",
      "True\n",
      "False\n",
      "True\n",
      "False\n",
      "Mario\n",
      "MARIO\n",
      "mario\n"
     ]
    }
   ],
   "source": [
    "name = \"mario\"\n",
    "\n",
    "print(f\"il femminile di {name} corrisponde a {name.replace('o', 'a')}\") # stampa maria\n",
    "\n",
    "# rimozione spazi e sinstra es: '  ciao ' -> 'ciao '\n",
    "print(\"  ciao\".lstrip())   # rimozione a sinistra\n",
    "print(\"ciao \".rstrip())    # rimozione a destra\n",
    "print(\"  ciao  \".strip())  # rimozione sia a destra che a sinistra\n",
    "\n",
    "\n",
    "# verifica se la stringa inizia per\n",
    "print(\"mystring\".startswith(\"my\")) # true\n",
    "print(\"mystring\".startswith(\"n\"))  # false\n",
    "\n",
    "print(\"mystring\".endswith(\"ing\"))  # true\n",
    "print(\"mystring\".endswith(\"in\"))   # false\n",
    "\n",
    "print(\"mario\".capitalize()) # Mario\n",
    "print(\"mario\".upper()) # MARIO\n",
    "print(\"MARIO\".lower()) # mario\n"
   ]
  },
  {
   "cell_type": "code",
   "execution_count": null,
   "metadata": {},
   "outputs": [],
   "source": []
  },
  {
   "cell_type": "code",
   "execution_count": null,
   "metadata": {},
   "outputs": [],
   "source": []
  },
  {
   "cell_type": "code",
   "execution_count": null,
   "metadata": {},
   "outputs": [],
   "source": []
  },
  {
   "cell_type": "code",
   "execution_count": null,
   "metadata": {},
   "outputs": [],
   "source": []
  },
  {
   "cell_type": "code",
   "execution_count": null,
   "metadata": {},
   "outputs": [],
   "source": []
  },
  {
   "cell_type": "code",
   "execution_count": null,
   "metadata": {},
   "outputs": [],
   "source": []
  },
  {
   "cell_type": "code",
   "execution_count": null,
   "metadata": {},
   "outputs": [],
   "source": []
  },
  {
   "cell_type": "code",
   "execution_count": null,
   "metadata": {},
   "outputs": [],
   "source": []
  },
  {
   "cell_type": "code",
   "execution_count": null,
   "metadata": {},
   "outputs": [],
   "source": []
  },
  {
   "cell_type": "code",
   "execution_count": null,
   "metadata": {},
   "outputs": [],
   "source": []
  }
 ],
 "metadata": {
  "kernelspec": {
   "display_name": "Python 3",
   "language": "python",
   "name": "python3"
  },
  "language_info": {
   "codemirror_mode": {
    "name": "ipython",
    "version": 3
   },
   "file_extension": ".py",
   "mimetype": "text/x-python",
   "name": "python",
   "nbconvert_exporter": "python",
   "pygments_lexer": "ipython3",
   "version": "3.7.4"
  }
 },
 "nbformat": 4,
 "nbformat_minor": 4
}
