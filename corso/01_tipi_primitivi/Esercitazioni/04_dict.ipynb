{
 "cells": [
  {
   "cell_type": "markdown",
   "metadata": {},
   "source": [
    "# Esercizi sui Dizionari"
   ]
  },
  {
   "cell_type": "code",
   "execution_count": 1,
   "metadata": {},
   "outputs": [
    {
     "ename": "AssertionError",
     "evalue": "",
     "output_type": "error",
     "traceback": [
      "\u001b[0;31m---------------------------------------------------------------------------\u001b[0m",
      "\u001b[0;31mAssertionError\u001b[0m                            Traceback (most recent call last)",
      "\u001b[0;32m<ipython-input-1-8ec9d5fa4925>\u001b[0m in \u001b[0;36m<module>\u001b[0;34m\u001b[0m\n\u001b[1;32m     12\u001b[0m \u001b[0;31m## testing non toccare #\u001b[0m\u001b[0;34m\u001b[0m\u001b[0;34m\u001b[0m\u001b[0;34m\u001b[0m\u001b[0m\n\u001b[1;32m     13\u001b[0m \u001b[0;31m########################\u001b[0m\u001b[0;34m\u001b[0m\u001b[0;34m\u001b[0m\u001b[0;34m\u001b[0m\u001b[0m\n\u001b[0;32m---> 14\u001b[0;31m \u001b[0;32massert\u001b[0m \u001b[0mnome\u001b[0m \u001b[0;34m==\u001b[0m \u001b[0;34m\"mario\"\u001b[0m\u001b[0;34m\u001b[0m\u001b[0;34m\u001b[0m\u001b[0m\n\u001b[0m\u001b[1;32m     15\u001b[0m \u001b[0;32massert\u001b[0m \u001b[0mcognome\u001b[0m \u001b[0;34m==\u001b[0m \u001b[0;34m\"rossi\"\u001b[0m\u001b[0;34m\u001b[0m\u001b[0;34m\u001b[0m\u001b[0m\n",
      "\u001b[0;31mAssertionError\u001b[0m: "
     ]
    }
   ],
   "source": [
    "mydict = {\n",
    "    \"nome\" : \"mario\",\n",
    "    \"cognome\" : \"rossi\"\n",
    "}\n",
    "\n",
    "# valorizzare correttamente le variabili\n",
    "nome = mydict\n",
    "cognome = mydict\n",
    "\n",
    "\n",
    "########################\n",
    "## testing non toccare #\n",
    "########################\n",
    "assert nome == \"mario\"\n",
    "assert cognome == \"rossi\""
   ]
  },
  {
   "cell_type": "markdown",
   "metadata": {},
   "source": [
    "## 2) Liste di dizionari"
   ]
  },
  {
   "cell_type": "code",
   "execution_count": 3,
   "metadata": {},
   "outputs": [
    {
     "ename": "AssertionError",
     "evalue": "",
     "output_type": "error",
     "traceback": [
      "\u001b[0;31m---------------------------------------------------------------------------\u001b[0m",
      "\u001b[0;31mAssertionError\u001b[0m                            Traceback (most recent call last)",
      "\u001b[0;32m<ipython-input-3-7e8d039eb21a>\u001b[0m in \u001b[0;36m<module>\u001b[0;34m\u001b[0m\n\u001b[1;32m     15\u001b[0m \u001b[0;31m## testing non toccare #\u001b[0m\u001b[0;34m\u001b[0m\u001b[0;34m\u001b[0m\u001b[0;34m\u001b[0m\u001b[0m\n\u001b[1;32m     16\u001b[0m \u001b[0;31m########################\u001b[0m\u001b[0;34m\u001b[0m\u001b[0;34m\u001b[0m\u001b[0;34m\u001b[0m\u001b[0m\n\u001b[0;32m---> 17\u001b[0;31m \u001b[0;32massert\u001b[0m \u001b[0mnome_mario\u001b[0m \u001b[0;34m==\u001b[0m \u001b[0;34m\"mario\"\u001b[0m\u001b[0;34m\u001b[0m\u001b[0;34m\u001b[0m\u001b[0m\n\u001b[0m\u001b[1;32m     18\u001b[0m \u001b[0;32massert\u001b[0m \u001b[0mcognome_rossi\u001b[0m \u001b[0;34m==\u001b[0m \u001b[0;34m\"rossi\"\u001b[0m\u001b[0;34m\u001b[0m\u001b[0;34m\u001b[0m\u001b[0m\n\u001b[1;32m     19\u001b[0m \u001b[0;32massert\u001b[0m \u001b[0mnome_piero\u001b[0m \u001b[0;34m==\u001b[0m \u001b[0;34m\"piero\"\u001b[0m\u001b[0;34m\u001b[0m\u001b[0;34m\u001b[0m\u001b[0m\n",
      "\u001b[0;31mAssertionError\u001b[0m: "
     ]
    }
   ],
   "source": [
    "persone = [\n",
    "    { \"nome\" : \"mario\", \"cognome\" : \"rossi\" },\n",
    "    { \"nome\" : \"piero\", \"cognome\" : \"bianchi\" },\n",
    "]\n",
    "\n",
    "# modificare l'assegnazione per fare in modo che nome_mario sia uguale a \"mario\" ricavando i dati dalla lista di dizionari\n",
    "nome_mario = persone\n",
    "cognome_rossi = persone\n",
    "\n",
    "nome_piero = persone\n",
    "cognome_bianchi = persone\n",
    "\n",
    "\n",
    "########################\n",
    "## testing non toccare #\n",
    "########################\n",
    "assert nome_mario == \"mario\"\n",
    "assert cognome_rossi == \"rossi\"\n",
    "assert nome_piero == \"piero\"\n",
    "assert cognome_bianchi == \"bianchi\""
   ]
  },
  {
   "cell_type": "code",
   "execution_count": 4,
   "metadata": {},
   "outputs": [],
   "source": [
    "## 3) aggregazione dati dizionari\n"
   ]
  },
  {
   "cell_type": "code",
   "execution_count": 13,
   "metadata": {},
   "outputs": [
    {
     "ename": "TypeError",
     "evalue": "int() argument must be a string, a bytes-like object or a number, not 'list'",
     "output_type": "error",
     "traceback": [
      "\u001b[0;31m---------------------------------------------------------------------------\u001b[0m",
      "\u001b[0;31mTypeError\u001b[0m                                 Traceback (most recent call last)",
      "\u001b[0;32m<ipython-input-13-58b18bc71173>\u001b[0m in \u001b[0;36m<module>\u001b[0;34m\u001b[0m\n\u001b[1;32m     14\u001b[0m \u001b[0;31m## testing non toccare #\u001b[0m\u001b[0;34m\u001b[0m\u001b[0;34m\u001b[0m\u001b[0;34m\u001b[0m\u001b[0m\n\u001b[1;32m     15\u001b[0m \u001b[0;31m########################\u001b[0m\u001b[0;34m\u001b[0m\u001b[0;34m\u001b[0m\u001b[0;34m\u001b[0m\u001b[0m\n\u001b[0;32m---> 16\u001b[0;31m \u001b[0;32massert\u001b[0m \u001b[0mint\u001b[0m\u001b[0;34m(\u001b[0m\u001b[0mmedia_cpu\u001b[0m\u001b[0;34m)\u001b[0m \u001b[0;34m==\u001b[0m \u001b[0;36m87\u001b[0m\u001b[0;34m\u001b[0m\u001b[0;34m\u001b[0m\u001b[0m\n\u001b[0m\u001b[1;32m     17\u001b[0m \u001b[0;32massert\u001b[0m \u001b[0mint\u001b[0m\u001b[0;34m(\u001b[0m\u001b[0mmedia_ram\u001b[0m\u001b[0;34m)\u001b[0m \u001b[0;34m==\u001b[0m \u001b[0;36m37\u001b[0m\u001b[0;34m\u001b[0m\u001b[0;34m\u001b[0m\u001b[0m\n",
      "\u001b[0;31mTypeError\u001b[0m: int() argument must be a string, a bytes-like object or a number, not 'list'"
     ]
    }
   ],
   "source": [
    "metriche = [\n",
    "    { \"timestamp\" : \"2020-01-01T00:00:00Z\", \"cpu\" : 90, \"ram\" : 35},\n",
    "    { \"timestamp\" : \"2020-01-01T00:05:00Z\", \"cpu\" : 85, \"ram\" : 40},\n",
    "    { \"timestamp\" : \"2020-01-01T00:10:00Z\", \"cpu\" : 87, \"ram\" : 38},\n",
    "]\n",
    "\n",
    "# hint: modificare l'assegnazione per far in modo che media_cpu sia pari alla media aritmetica delle cpu e media_ram per la ram\n",
    "#       (somma delle metriche cpu / numero di metriche cpu) : ( (90+75+87)/3 )\n",
    "media_cpu = metriche\n",
    "media_ram = metriche\n",
    "\n",
    "\n",
    "########################\n",
    "## testing non toccare #\n",
    "########################\n",
    "assert int(media_cpu) == 87\n",
    "assert int(media_ram) == 37\n"
   ]
  },
  {
   "cell_type": "code",
   "execution_count": null,
   "metadata": {},
   "outputs": [],
   "source": []
  }
 ],
 "metadata": {
  "kernelspec": {
   "display_name": "Python 3",
   "language": "python",
   "name": "python3"
  },
  "language_info": {
   "codemirror_mode": {
    "name": "ipython",
    "version": 3
   },
   "file_extension": ".py",
   "mimetype": "text/x-python",
   "name": "python",
   "nbconvert_exporter": "python",
   "pygments_lexer": "ipython3",
   "version": "3.7.4"
  }
 },
 "nbformat": 4,
 "nbformat_minor": 4
}
