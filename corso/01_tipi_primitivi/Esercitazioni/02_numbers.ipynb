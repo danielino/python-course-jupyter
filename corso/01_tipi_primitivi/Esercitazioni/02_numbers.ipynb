{
 "cells": [
  {
   "cell_type": "markdown",
   "metadata": {},
   "source": [
    "# Tipi Numerici\n",
    "\n",
    "\n"
   ]
  },
  {
   "cell_type": "markdown",
   "metadata": {},
   "source": [
    "## 1) Operazioni Aritmetiche"
   ]
  },
  {
   "cell_type": "code",
   "execution_count": 1,
   "metadata": {},
   "outputs": [],
   "source": [
    "# modificare il marker ? con il segno aritmetico che si ritiene più opportuno\n",
    "\n",
    "a = 1 - 1   # 0\n",
    "b = 10 - 5  # 5\n",
    "c = 5 * 5   # 25\n",
    "d = 10 / 2  # 5\n",
    "e = 5 ** 2   # 25\n",
    "\n",
    "\n",
    "assert a == 0\n",
    "assert b == 5\n",
    "assert c == 25\n",
    "assert d == 5\n",
    "assert e == 25"
   ]
  },
  {
   "cell_type": "code",
   "execution_count": null,
   "metadata": {},
   "outputs": [],
   "source": []
  }
 ],
 "metadata": {
  "kernelspec": {
   "display_name": "Python 3",
   "language": "python",
   "name": "python3"
  },
  "language_info": {
   "codemirror_mode": {
    "name": "ipython",
    "version": 3
   },
   "file_extension": ".py",
   "mimetype": "text/x-python",
   "name": "python",
   "nbconvert_exporter": "python",
   "pygments_lexer": "ipython3",
   "version": "3.7.4"
  }
 },
 "nbformat": 4,
 "nbformat_minor": 4
}
