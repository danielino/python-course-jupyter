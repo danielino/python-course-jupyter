{
 "cells": [
  {
   "cell_type": "markdown",
   "metadata": {},
   "source": [
    "# Esercizi Liste"
   ]
  },
  {
   "cell_type": "markdown",
   "metadata": {},
   "source": [
    "## 1) Slicing"
   ]
  },
  {
   "cell_type": "code",
   "execution_count": 6,
   "metadata": {},
   "outputs": [
    {
     "ename": "SyntaxError",
     "evalue": "invalid syntax (<ipython-input-6-9e5ee0e8f2d9>, line 4)",
     "output_type": "error",
     "traceback": [
      "\u001b[0;36m  File \u001b[0;32m\"<ipython-input-6-9e5ee0e8f2d9>\"\u001b[0;36m, line \u001b[0;32m4\u001b[0m\n\u001b[0;31m    mario = mylist[]\u001b[0m\n\u001b[0m                   ^\u001b[0m\n\u001b[0;31mSyntaxError\u001b[0m\u001b[0;31m:\u001b[0m invalid syntax\n"
     ]
    }
   ],
   "source": [
    "\n",
    "mylist = [\"mario\", \"pietro\", \"antani\", \"albero\"]\n",
    "\n",
    "# modificare l'assegnazione delle variabili , mario dovrà corrispondere all'elemento 0 e così via\n",
    "mario = mylist[]\n",
    "pietro = mylist[]\n",
    "antani = mylist[]\n",
    "albero = mylist[]\n",
    "\n",
    "\n",
    "########################\n",
    "## testing non toccare #\n",
    "########################\n",
    "assert mario == \"mario\"\n",
    "assert pietro == \"pietro\"\n",
    "assert antani == \"antani\"\n",
    "assert albero == \"albero\"\n"
   ]
  },
  {
   "cell_type": "code",
   "execution_count": 5,
   "metadata": {},
   "outputs": [
    {
     "ename": "SyntaxError",
     "evalue": "invalid syntax (<ipython-input-5-0b50dbf1b58c>, line 2)",
     "output_type": "error",
     "traceback": [
      "\u001b[0;36m  File \u001b[0;32m\"<ipython-input-5-0b50dbf1b58c>\"\u001b[0;36m, line \u001b[0;32m2\u001b[0m\n\u001b[0;31m    persone = mylist[]\u001b[0m\n\u001b[0m                     ^\u001b[0m\n\u001b[0;31mSyntaxError\u001b[0m\u001b[0;31m:\u001b[0m invalid syntax\n"
     ]
    }
   ],
   "source": [
    "\n",
    "mylist = [\"mario\", \"pietro\", \"automobile\", \"albero\"]\n",
    "persone = mylist[]\n",
    "cose = mylist[]\n",
    "\n",
    "\n",
    "\n",
    "########################\n",
    "## testing non toccare #\n",
    "########################\n",
    "assert persone == [\"mario\", \"pietro\"]\n",
    "assert cose == [\"automobile\", \"albero\"]"
   ]
  },
  {
   "cell_type": "code",
   "execution_count": null,
   "metadata": {},
   "outputs": [],
   "source": []
  }
 ],
 "metadata": {
  "kernelspec": {
   "display_name": "Python 3",
   "language": "python",
   "name": "python3"
  },
  "language_info": {
   "codemirror_mode": {
    "name": "ipython",
    "version": 3
   },
   "file_extension": ".py",
   "mimetype": "text/x-python",
   "name": "python",
   "nbconvert_exporter": "python",
   "pygments_lexer": "ipython3",
   "version": "3.7.4"
  }
 },
 "nbformat": 4,
 "nbformat_minor": 4
}
