{
 "cells": [
  {
   "cell_type": "markdown",
   "metadata": {},
   "source": [
    "## Stringhe\n"
   ]
  },
  {
   "cell_type": "markdown",
   "metadata": {},
   "source": [
    "### 1) string slicing\n",
    "\n",
    "per svolgere l'esercizio è necessario modificare l'assegnazione delle variabili indicando il corretto indice per far risultare l'assert vero"
   ]
  },
  {
   "cell_type": "code",
   "execution_count": null,
   "metadata": {},
   "outputs": [],
   "source": [
    "# modificare la variabile a,b,c ... prendendo il valore da mystring per soddisfare i requisiti imposti dall'assert\n",
    "\n",
    "mystring = \"ciao\"\n",
    "\n",
    "## modificare l'assegnazione per valorizzare A con la\n",
    "## prima lettera della frase contenuta nella variabile mystring, b con la seconda e così via\n",
    "a = mystring\n",
    "b = mystring\n",
    "c = mystring\n",
    "d = mystring\n",
    "\n",
    "\n",
    "assert a == 'c' # non modificare l'assert\n",
    "assert b == 'i'\n",
    "assert c == 'a'\n",
    "assert d == 'o'"
   ]
  },
  {
   "cell_type": "markdown",
   "metadata": {},
   "source": [
    "### 2) string slicing avanzato\n",
    "per svolgere l'esercizio è necessario modificare l'assegnazione delle variabili indicando il corretto slicing per far risultare vero l'assert"
   ]
  },
  {
   "cell_type": "code",
   "execution_count": null,
   "metadata": {},
   "outputs": [],
   "source": [
    "mystring = \"la mia stringa di test\"\n",
    "\n",
    "# a deve corrispondere alla stringa di testo \"la mia\"\n",
    "a = mystring\n",
    "# b deve corrispondere alla stringa di testo \"test\"\n",
    "b = mystring\n",
    "# c deve corrispondere alla stringa di testo \"stringa di\"\n",
    "c = mystring\n",
    "# d deve corrispondere alla stringa di testo \"mia stringa\"\n",
    "d = mystring\n",
    "\n",
    "\n",
    "assert a == 'la mia'\n",
    "assert b == 'test'\n",
    "assert c = 'stringa di'\n",
    "assert d = 'mia stringa'"
   ]
  },
  {
   "cell_type": "code",
   "execution_count": null,
   "metadata": {},
   "outputs": [],
   "source": []
  }
 ],
 "metadata": {
  "kernelspec": {
   "display_name": "Python 3",
   "language": "python",
   "name": "python3"
  },
  "language_info": {
   "codemirror_mode": {
    "name": "ipython",
    "version": 3
   },
   "file_extension": ".py",
   "mimetype": "text/x-python",
   "name": "python",
   "nbconvert_exporter": "python",
   "pygments_lexer": "ipython3",
   "version": "3.7.4"
  }
 },
 "nbformat": 4,
 "nbformat_minor": 4
}
