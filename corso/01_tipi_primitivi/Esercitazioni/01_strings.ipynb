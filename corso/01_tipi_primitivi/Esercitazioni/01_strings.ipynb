{
 "cells": [
  {
   "cell_type": "markdown",
   "metadata": {},
   "source": [
    "## Stringhe\n"
   ]
  },
  {
   "cell_type": "markdown",
   "metadata": {},
   "source": [
    "### 1) string slicing\n",
    "\n",
    "per svolgere l'esercizio è necessario modificare l'assegnazione delle variabili indicando il corretto indice per far risultare l'assert vero"
   ]
  },
  {
   "cell_type": "code",
   "execution_count": 11,
   "metadata": {},
   "outputs": [],
   "source": [
    "# modificare la variabile a,b,c ... prendendo il valore da mystring per soddisfare i requisiti imposti dall'assert\n",
    "\n",
    "mystring = \"ciao\"\n",
    "\n",
    "## modificare l'assegnazione per valorizzare A con la\n",
    "## prima lettera della frase contenuta nella variabile mystring, b con la seconda e così via\n",
    "a = mystring[0]\n",
    "b = mystring[1]\n",
    "c = mystring[2]\n",
    "d = mystring[-1]\n",
    "\n",
    "\n",
    "assert a == 'c' # non modificare l'assert\n",
    "assert b == 'i'\n",
    "assert c == 'a'\n",
    "assert d == 'o'"
   ]
  },
  {
   "cell_type": "markdown",
   "metadata": {},
   "source": [
    "### 2) string slicing avanzato\n",
    "per svolgere l'esercizio è necessario modificare l'assegnazione delle variabili indicando il corretto slicing per far risultare vero l'assert"
   ]
  },
  {
   "cell_type": "code",
   "execution_count": 21,
   "metadata": {},
   "outputs": [
    {
     "ename": "AssertionError",
     "evalue": "",
     "output_type": "error",
     "traceback": [
      "\u001b[0;31m---------------------------------------------------------------------------\u001b[0m",
      "\u001b[0;31mAssertionError\u001b[0m                            Traceback (most recent call last)",
      "\u001b[0;32m<ipython-input-21-eade19289d30>\u001b[0m in \u001b[0;36m<module>\u001b[0;34m\u001b[0m\n\u001b[1;32m     13\u001b[0m \u001b[0;32massert\u001b[0m \u001b[0ma\u001b[0m \u001b[0;34m==\u001b[0m \u001b[0;34m'la mia'\u001b[0m\u001b[0;34m\u001b[0m\u001b[0;34m\u001b[0m\u001b[0m\n\u001b[1;32m     14\u001b[0m \u001b[0;32massert\u001b[0m \u001b[0mb\u001b[0m \u001b[0;34m==\u001b[0m \u001b[0;34m'test'\u001b[0m\u001b[0;34m\u001b[0m\u001b[0;34m\u001b[0m\u001b[0m\n\u001b[0;32m---> 15\u001b[0;31m \u001b[0;32massert\u001b[0m \u001b[0mc\u001b[0m \u001b[0;34m==\u001b[0m \u001b[0;34m'stringa di'\u001b[0m\u001b[0;34m\u001b[0m\u001b[0;34m\u001b[0m\u001b[0m\n\u001b[0m\u001b[1;32m     16\u001b[0m \u001b[0;32massert\u001b[0m \u001b[0md\u001b[0m \u001b[0;34m==\u001b[0m \u001b[0;34m'mia stringa'\u001b[0m\u001b[0;34m\u001b[0m\u001b[0;34m\u001b[0m\u001b[0m\n",
      "\u001b[0;31mAssertionError\u001b[0m: "
     ]
    }
   ],
   "source": [
    "mystring = \"la mia stringa di test\"\n",
    "\n",
    "# a deve corrispondere alla stringa di testo \"la mia\"\n",
    "a = mystring[:6]\n",
    "# b deve corrispondere alla stringa di testo \"test\"\n",
    "b = mystring[-4:]\n",
    "# c deve corrispondere alla stringa di testo \"stringa di\"\n",
    "c = mystring[7:17]\n",
    "# d deve corrispondere alla stringa di testo \"mia stringa\"\n",
    "d = mystring[4:-8]\n",
    "\n",
    "\n",
    "assert a == 'la mia'\n",
    "assert b == 'test'\n",
    "assert c == 'stringa di'\n",
    "assert d == 'mia stringa'"
   ]
  },
  {
   "cell_type": "code",
   "execution_count": null,
   "metadata": {},
   "outputs": [],
   "source": []
  }
 ],
 "metadata": {
  "kernelspec": {
   "display_name": "Python 3",
   "language": "python",
   "name": "python3"
  },
  "language_info": {
   "codemirror_mode": {
    "name": "ipython",
    "version": 3
   },
   "file_extension": ".py",
   "mimetype": "text/x-python",
   "name": "python",
   "nbconvert_exporter": "python",
   "pygments_lexer": "ipython3",
   "version": "3.7.4"
  }
 },
 "nbformat": 4,
 "nbformat_minor": 4
}
