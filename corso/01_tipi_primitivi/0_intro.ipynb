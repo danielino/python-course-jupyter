{
 "cells": [
  {
   "cell_type": "markdown",
   "metadata": {},
   "source": [
    "# tipi di dato\n",
    "\n",
    "Tipo di dato | Nome | Descrizione\n",
    "-------------|------|------------\n",
    "Intero | **int** | Numero intero\n",
    "Reale | **float** | numero a virgola mobile\n",
    "Booleano | **bool** | Vero o Falso (true|false)\n",
    "Complesso | **complex** | Numeri complessi con parte reale e immaginaria\n",
    "Stringhe | **str** | Rappresentazione del testo\n",
    "Bytes | **bytes** | Rappresenta i bytes\n",
    "Lista | **list** | rappresenta una sequenza mutabile di oggetti\n",
    "Tupla | **tuple** | rappresenta una sequenza immutabile di oggetti\n",
    "Insiemi | **set/frozenset** | rappresenta un insieme di oggetti unici (set mutabile, frozenset immutabile)\n",
    "Dizionari | **dict** | Una struttura che associa chiavi a valori\n",
    "\n"
   ]
  },
  {
   "cell_type": "markdown",
   "metadata": {},
   "source": [
    "## 1) Numerici\n",
    "\n",
    "```python\n",
    "# integer\n",
    "myint = 0\n",
    "\n",
    "# float\n",
    "myfloat = 1.1\n",
    "\n",
    "# complex\n",
    "mycomplex = (1,10j) # complex(1, 10)\n",
    "```"
   ]
  },
  {
   "cell_type": "markdown",
   "metadata": {},
   "source": [
    "## 2) Booleani\n",
    "\n",
    "```python\n",
    "mybooltrue = True \n",
    "myboolfalse = False\n",
    "```"
   ]
  },
  {
   "cell_type": "markdown",
   "metadata": {},
   "source": [
    "## 3) Stringhe e bytes\n",
    "\n",
    "```python\n",
    "# strings\n",
    "mystring = \"ciao\"\n",
    "\n",
    "# bytes\n",
    "br = b'\\x01\\x02' \n",
    "bs = b'mytest'\n",
    "\n",
    "# string encoding\n",
    "\"mytest\".encode('utf-8')\n",
    "\"weèèè-+ùàì\".encode('utf-8') # -> b'we\\xc3\\xa8\\xc3\\xa8\\xc3\\xa8-+\\xc3\\xb9\\xc3\\xa0\\xc3\\xac'\n",
    "```"
   ]
  },
  {
   "cell_type": "markdown",
   "metadata": {},
   "source": [
    "## 4) Liste, tuple e set\n",
    "\n",
    "```python\n",
    "# lists\n",
    "mylist_a = [1,2,3]\n",
    "mylist_b = [\"ciao\", \"come\", \"va\"]\n",
    "mylist_c = [1.10, \"hola\", 1, True, False]\n",
    "\n",
    "# tuple\n",
    "mytuple_a = (1,2,3)\n",
    "mytuple_b = (True,2,\"prova\")\n",
    "mytuple_c = (1.10, False)\n",
    "\n",
    "# set/frozenset\n",
    "myset = {1,2,3,4,4,5,5,6}\n",
    "myuniquelist = set([1,1,2,2,3,3,4,5,6])\n",
    "\n",
    "myfset = frozenset(myset)\n",
    "```"
   ]
  },
  {
   "cell_type": "markdown",
   "metadata": {},
   "source": [
    "## 5) Dizionari\n",
    "\n",
    "```python\n",
    "# dict\n",
    "mydict = {\"key\" : \"value\"}\n",
    "mydict2 = dict(key=value)\n",
    "\n",
    "print(mydict['key'])\n",
    "```"
   ]
  },
  {
   "cell_type": "code",
   "execution_count": null,
   "metadata": {},
   "outputs": [],
   "source": []
  }
 ],
 "metadata": {
  "kernelspec": {
   "display_name": "Python 3",
   "language": "python",
   "name": "python3"
  },
  "language_info": {
   "codemirror_mode": {
    "name": "ipython",
    "version": 3
   },
   "file_extension": ".py",
   "mimetype": "text/x-python",
   "name": "python",
   "nbconvert_exporter": "python",
   "pygments_lexer": "ipython3",
   "version": "3.7.4"
  }
 },
 "nbformat": 4,
 "nbformat_minor": 4
}
