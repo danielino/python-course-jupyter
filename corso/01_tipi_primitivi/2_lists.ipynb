{
 "cells": [
  {
   "cell_type": "markdown",
   "metadata": {},
   "source": [
    "# Lists\n",
    "\n",
    "Attraverso le liste possiamo rappresentare una sequenza mutabile di oggetti.\n",
    "\n",
    "Come per le stringhe, anche con le liste, è possibile accedere ai singoli elementi attraverso la sintassi: list[index]"
   ]
  },
  {
   "cell_type": "markdown",
   "metadata": {},
   "source": [
    "## 1) accedere agli elementi della lista"
   ]
  },
  {
   "cell_type": "code",
   "execution_count": 30,
   "metadata": {},
   "outputs": [
    {
     "name": "stdout",
     "output_type": "stream",
     "text": [
      "[1, 2, 3]\n",
      "1\n",
      "3\n"
     ]
    }
   ],
   "source": [
    "a = [1,2,3]\n",
    "print(a)\n",
    "\n",
    "# stampa il primo elemento\n",
    "print(a[0])\n",
    "\n",
    "# stampa l'ultimo elemento\n",
    "print(a[-1])"
   ]
  },
  {
   "cell_type": "markdown",
   "metadata": {},
   "source": [
    "## 2) aggiungere elementi ad una lista"
   ]
  },
  {
   "cell_type": "code",
   "execution_count": 31,
   "metadata": {},
   "outputs": [
    {
     "name": "stdout",
     "output_type": "stream",
     "text": [
      "[1, 2, 3, 4, 5]\n",
      "[-1, 1, 2, 3]\n"
     ]
    }
   ],
   "source": [
    "# aggiunta di elementi alla fine della lista\n",
    "\n",
    "a = [1,2,3]\n",
    "a.append(4)\n",
    "a.append(5)\n",
    "print(a)\n",
    "\n",
    "a = [1,2,3]\n",
    "# insert(index, elemento) inserisce l'elemento ad un determinato indice (0)\n",
    "a.insert(0, -1)\n",
    "print(a)"
   ]
  },
  {
   "cell_type": "markdown",
   "metadata": {},
   "source": [
    "## 3) rimozione di elementi"
   ]
  },
  {
   "cell_type": "code",
   "execution_count": 32,
   "metadata": {},
   "outputs": [
    {
     "name": "stdout",
     "output_type": "stream",
     "text": [
      "[2, 3]\n",
      "[2]\n"
     ]
    }
   ],
   "source": [
    "# rimozione di elementi dalla lista\n",
    "\n",
    "a = [1,2,3]\n",
    "a.remove(1)\n",
    "print(a)\n",
    "\n",
    "# pop rimuove l'ultimo elemento dalla lista\n",
    "a.pop()\n",
    "print(a)"
   ]
  },
  {
   "cell_type": "markdown",
   "metadata": {},
   "source": [
    "## 4) Ricerca di elementi"
   ]
  },
  {
   "cell_type": "code",
   "execution_count": 33,
   "metadata": {},
   "outputs": [
    {
     "data": {
      "text/plain": [
       "1"
      ]
     },
     "execution_count": 33,
     "metadata": {},
     "output_type": "execute_result"
    }
   ],
   "source": [
    "# ricerca di elementi nella lista\n",
    "a = [\"daniele\", \"marco\", \"simone\"]\n",
    "a.index(\"marco\") # equivale ad 1, ovvero l'indice in cui si trova l'elemento"
   ]
  },
  {
   "cell_type": "markdown",
   "metadata": {},
   "source": [
    "## 5) copia di una lista"
   ]
  },
  {
   "cell_type": "code",
   "execution_count": 34,
   "metadata": {},
   "outputs": [
    {
     "name": "stdout",
     "output_type": "stream",
     "text": [
      "[2, 3]\n",
      "--- copia dell'elemento ---\n",
      "[1, 2, 3]\n",
      "[2, 3]\n"
     ]
    }
   ],
   "source": [
    "# copia della lista\n",
    "a = [1,2,3]\n",
    "b = a\n",
    "b.remove(1)\n",
    "print(a)\n",
    "# se si modifica b, in realtà viene modificato anche a in quanto non viene creata una copia ma solo un riferimento all'indirizzo di memoria\n",
    "\n",
    "# per copiare la lista, si utilizza il metodo copy\n",
    "print(\"--- copia dell'elemento ---\")\n",
    "a = [1,2,3]\n",
    "b = a.copy()\n",
    "b.remove(1) # non modifica a dato che viene creata una copia a se stante dell'oggetto\n",
    "print(a)\n",
    "print(b)"
   ]
  },
  {
   "cell_type": "markdown",
   "metadata": {},
   "source": [
    "## 6) Svuotare una lista dai propri elementi"
   ]
  },
  {
   "cell_type": "code",
   "execution_count": 35,
   "metadata": {},
   "outputs": [
    {
     "name": "stdout",
     "output_type": "stream",
     "text": [
      "[]\n"
     ]
    }
   ],
   "source": [
    "# svuotare una lista\n",
    "a = [1,2,3]\n",
    "a.clear()\n",
    "print(a)"
   ]
  },
  {
   "cell_type": "markdown",
   "metadata": {},
   "source": [
    "## 7) Estensione di una lista"
   ]
  },
  {
   "cell_type": "code",
   "execution_count": 36,
   "metadata": {},
   "outputs": [
    {
     "name": "stdout",
     "output_type": "stream",
     "text": [
      "[1, 2, 3, 4, 5, 6]\n",
      "[1, 2, 3, 4, 5, 6]\n"
     ]
    }
   ],
   "source": [
    "# estensione della lista\n",
    "a = [1,2,3]\n",
    "b = [4,5,6]\n",
    "a.extend(b)\n",
    "print(a)\n",
    "\n",
    "# lo stesso risultato è ottenibile con il simbolo di somma\n",
    "a = [1,2,3]\n",
    "b = [4,5,6]\n",
    "a += b\n",
    "print(a)"
   ]
  },
  {
   "cell_type": "markdown",
   "metadata": {},
   "source": [
    "## 8) Ordinare una lista"
   ]
  },
  {
   "cell_type": "code",
   "execution_count": 40,
   "metadata": {},
   "outputs": [
    {
     "name": "stdout",
     "output_type": "stream",
     "text": [
      "[1, 2, 3, 4, 6, 9]\n",
      "[9, 6, 4, 3, 2, 1]\n"
     ]
    }
   ],
   "source": [
    "a = [3,2,6,4,9,1]\n",
    "# ordine crescente\n",
    "a.sort()\n",
    "print(a)\n",
    "\n",
    "# ordine decrescente\n",
    "a.reverse()\n",
    "print(a)"
   ]
  },
  {
   "cell_type": "code",
   "execution_count": null,
   "metadata": {},
   "outputs": [],
   "source": []
  }
 ],
 "metadata": {
  "kernelspec": {
   "display_name": "Python 3",
   "language": "python",
   "name": "python3"
  },
  "language_info": {
   "codemirror_mode": {
    "name": "ipython",
    "version": 3
   },
   "file_extension": ".py",
   "mimetype": "text/x-python",
   "name": "python",
   "nbconvert_exporter": "python",
   "pygments_lexer": "ipython3",
   "version": "3.7.4"
  }
 },
 "nbformat": 4,
 "nbformat_minor": 4
}
