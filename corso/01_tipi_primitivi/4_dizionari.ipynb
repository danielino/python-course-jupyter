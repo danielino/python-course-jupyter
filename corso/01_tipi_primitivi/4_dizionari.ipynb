{
 "cells": [
  {
   "cell_type": "markdown",
   "metadata": {},
   "source": [
    "# Dizionari\n",
    "\n",
    "i dizionari in python sono delle collezioni non ordinate che contengono elementi formati da una chiave e da un valore.\n",
    "\n",
    "i dizionari python ricordano il format JSON (JavaScript Object Notation)\n",
    "\n",
    "```python\n",
    "# python\n",
    "a = { \"nome\" : \"mario\" }\n",
    "```\n",
    "\n",
    "```json\n",
    "# json\n",
    "{\n",
    "    \"nome\" : \"mario\"\n",
    "}\n",
    "```"
   ]
  },
  {
   "cell_type": "markdown",
   "metadata": {},
   "source": [
    "## 1) Creazione dizionario"
   ]
  },
  {
   "cell_type": "code",
   "execution_count": 30,
   "metadata": {},
   "outputs": [
    {
     "name": "stdout",
     "output_type": "stream",
     "text": [
      "{'nome': 'mario'}\n",
      "{'nome': 'piero'}\n",
      "mario\n"
     ]
    }
   ],
   "source": [
    "# per creare dizionari abbiamo 2 possibilità, la notazione con le graffe oppure il costrutto dict()\n",
    "a = { \"nome\" : \"mario\" }\n",
    "b = dict(nome=\"piero\")\n",
    "print(a)\n",
    "print(b)\n",
    "print(a['nome'])"
   ]
  },
  {
   "cell_type": "markdown",
   "metadata": {},
   "source": [
    "## 2) aggiunta elementi ad un dizionario\n"
   ]
  },
  {
   "cell_type": "code",
   "execution_count": 4,
   "metadata": {},
   "outputs": [
    {
     "name": "stdout",
     "output_type": "stream",
     "text": [
      "{'nome': 'mario', 'cognome': 'rossi'}\n"
     ]
    }
   ],
   "source": [
    "a = {\"nome\" : \"mario\"}\n",
    "a['cognome'] = \"rossi\"\n",
    "\n",
    "print(a)"
   ]
  },
  {
   "cell_type": "markdown",
   "metadata": {},
   "source": [
    "## 3) rimozione di elementi dal dizionario\n"
   ]
  },
  {
   "cell_type": "code",
   "execution_count": 8,
   "metadata": {},
   "outputs": [
    {
     "name": "stdout",
     "output_type": "stream",
     "text": [
      "{}\n"
     ]
    }
   ],
   "source": [
    "a = {\n",
    "    \"nome\" : \"mario\",\n",
    "    \"cognome\" : \"rossi\"\n",
    "}\n",
    "\n",
    "# pop rimuove il valore e lo ritorna, quindi possiamo valorizzare una variabile con il contenuto dell'elemento rimosso\n",
    "nome = a.pop(\"nome\")\n",
    "cognome = a.pop(\"cognome\")\n",
    "\n",
    "# avendo rimosso gli elementi, ora il dizionario è vuoto ({})\n",
    "print(a)\n",
    "\n"
   ]
  },
  {
   "cell_type": "code",
   "execution_count": 12,
   "metadata": {},
   "outputs": [
    {
     "name": "stdout",
     "output_type": "stream",
     "text": [
      "{'nome': 'mario'}\n",
      "('cognome', 'rossi')\n"
     ]
    }
   ],
   "source": [
    "# popitem ci permette di tornare una tupla (key, value) con l'ultimo elemento del dizionario\n",
    "a = {\n",
    "    \"nome\" : \"mario\",\n",
    "    \"cognome\" : \"rossi\"\n",
    "}\n",
    "\n",
    "b = a.popitem()\n",
    "print(a)\n",
    "print(b)"
   ]
  },
  {
   "cell_type": "markdown",
   "metadata": {},
   "source": [
    "## 4) iterazione di elementi\n"
   ]
  },
  {
   "cell_type": "code",
   "execution_count": 15,
   "metadata": {},
   "outputs": [
    {
     "name": "stdout",
     "output_type": "stream",
     "text": [
      "nome -> mario\n",
      "cognome -> rossi\n"
     ]
    }
   ],
   "source": [
    "a = {\n",
    "    \"nome\" : \"mario\",\n",
    "    \"cognome\" : \"rossi\"\n",
    "}\n",
    "\n",
    "for key, value in a.items():\n",
    "    print(f\"{key} -> {value}\")"
   ]
  },
  {
   "cell_type": "markdown",
   "metadata": {},
   "source": [
    "## 5) accedere a tutte le chiavi del dizionario"
   ]
  },
  {
   "cell_type": "code",
   "execution_count": 35,
   "metadata": {},
   "outputs": [
    {
     "name": "stdout",
     "output_type": "stream",
     "text": [
      "dict_keys(['nome', 'cognome'])\n",
      "True\n",
      "False\n"
     ]
    }
   ],
   "source": [
    "a = {\n",
    "    \"nome\" : \"mario\",\n",
    "    \"cognome\" : \"rossi\"\n",
    "}\n",
    "\n",
    "print(a.keys())\n",
    "\n",
    "#ricerca di una chiave\n",
    "exist = \"nome\" in a.keys()\n",
    "print(exist)\n",
    "#ricerca di una chiave\n",
    "exist = \"pippo\" in a.keys()\n",
    "print(exist)"
   ]
  },
  {
   "cell_type": "markdown",
   "metadata": {},
   "source": [
    "## 6) accedere a tutti gli elementi del dizionario\n"
   ]
  },
  {
   "cell_type": "code",
   "execution_count": 39,
   "metadata": {},
   "outputs": [
    {
     "name": "stdout",
     "output_type": "stream",
     "text": [
      "dict_values(['mario', 'rossi'])\n"
     ]
    }
   ],
   "source": [
    "a = {\n",
    "    \"nome\" : \"mario\",\n",
    "    \"cognome\" : \"rossi\"\n",
    "}\n",
    "\n",
    "print(a.values())\n"
   ]
  },
  {
   "cell_type": "markdown",
   "metadata": {},
   "source": [
    "## 7) dizionari annidati\n",
    "\n",
    "i dizionari annidati ci permettono di definire una struttura complessa\n"
   ]
  },
  {
   "cell_type": "code",
   "execution_count": 21,
   "metadata": {},
   "outputs": [
    {
     "name": "stdout",
     "output_type": "stream",
     "text": [
      "altitude: 0\n"
     ]
    }
   ],
   "source": [
    "a = {\n",
    "    \"gps\" : {\n",
    "        \"latitude\" : 12,\n",
    "        \"longitude\" : 13,\n",
    "        \"altitude\" : 0\n",
    "    },\n",
    "    \"wind\" : {\n",
    "        \"speed\" : 50,\n",
    "        \"peak\" : 90\n",
    "    }\n",
    "}\n",
    "\n",
    "print(f\"altitude: {a['gps']['altitude']}\")"
   ]
  },
  {
   "cell_type": "markdown",
   "metadata": {},
   "source": [
    "## 8) Liste di dizionari\n"
   ]
  },
  {
   "cell_type": "code",
   "execution_count": 26,
   "metadata": {},
   "outputs": [
    {
     "name": "stdout",
     "output_type": "stream",
     "text": [
      "2020-01-01T00:00:00Z - cpu: 99% - ram: 50 \n"
     ]
    }
   ],
   "source": [
    "metrics = [\n",
    "    # primo elemento della lista\n",
    "    {\n",
    "        \"datetime\" : \"2020-01-01T00:00:00Z\",\n",
    "        \"metrics\" : {\n",
    "            \"cpu\" : 99,\n",
    "            \"ram\" : 50\n",
    "        }\n",
    "    },\n",
    "    # secondo elemento della lista\n",
    "    {\n",
    "        \"datetime\" : \"2020-01-01T00:01:00Z\",\n",
    "        \"metrics\" : {\n",
    "            \"cpu\" : 85,\n",
    "            \"ram\" : 48\n",
    "        }\n",
    "    }\n",
    "]\n",
    "\n",
    "item = metrics[0]\n",
    "print(f\"{item['datetime']} - cpu: {item['metrics']['cpu']}% - ram: {item['metrics']['ram']} \")\n",
    "    "
   ]
  }
 ],
 "metadata": {
  "kernelspec": {
   "display_name": "Python 3",
   "language": "python",
   "name": "python3"
  },
  "language_info": {
   "codemirror_mode": {
    "name": "ipython",
    "version": 3
   },
   "file_extension": ".py",
   "mimetype": "text/x-python",
   "name": "python",
   "nbconvert_exporter": "python",
   "pygments_lexer": "ipython3",
   "version": "3.7.4"
  }
 },
 "nbformat": 4,
 "nbformat_minor": 4
}
