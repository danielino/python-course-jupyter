{
 "cells": [
  {
   "cell_type": "markdown",
   "metadata": {},
   "source": [
    "# Context Manager\n",
    "\n",
    "andando a definirie dei magic methods ad una classe `__enter__` e `__exit__` introduciamo una nuova sintassi:\n",
    "\n",
    "```python\n",
    "with Context() as c:\n",
    "     # code\n",
    "     c.run()\n",
    "```\n",
    "\n",
    "attraverso `with` verrà eseguito il metodo `__enter__` dell'oggetto Context e verrà creata la sua istanza nella variabile c.\n",
    "\n",
    "una volta terminata l'esecuzione del metodo `run()` , verrà eseguito il metodo `__exit__` che generalmente provvederà a chiudere i contesti appesi (file, connessioni, ...)\n"
   ]
  },
  {
   "cell_type": "code",
   "execution_count": 6,
   "metadata": {},
   "outputs": [
    {
     "name": "stdout",
     "output_type": "stream",
     "text": [
      "entrato\n",
      "database connected\n",
      "run\n",
      "database disconnected\n",
      "uscito\n"
     ]
    }
   ],
   "source": [
    "class Connection:\n",
    "    def connect(self):\n",
    "        print(\"database connected\")\n",
    "    \n",
    "    def disconnect(self):\n",
    "        print(\"database disconnected\")\n",
    "\n",
    "\n",
    "class MyContext():\n",
    "    \n",
    "    def __init__(self):\n",
    "        self.db = Connection()\n",
    "    \n",
    "    def run(self):\n",
    "        print(\"run\")\n",
    "    \n",
    "    # enter deve sempre ritornare self\n",
    "    def __enter__(self, *args, **kwargs):\n",
    "        print(\"entrato\")\n",
    "        self.db.connect()\n",
    "        return self\n",
    "        \n",
    "    def __exit__(self, *args, **kwargs):\n",
    "        self.db.disconnect()\n",
    "        print(\"uscito\")\n",
    "        \n",
    "with MyContext() as c:\n",
    "    c.run()"
   ]
  },
  {
   "cell_type": "code",
   "execution_count": null,
   "metadata": {},
   "outputs": [],
   "source": []
  }
 ],
 "metadata": {
  "kernelspec": {
   "display_name": "Python 3",
   "language": "python",
   "name": "python3"
  },
  "language_info": {
   "codemirror_mode": {
    "name": "ipython",
    "version": 3
   },
   "file_extension": ".py",
   "mimetype": "text/x-python",
   "name": "python",
   "nbconvert_exporter": "python",
   "pygments_lexer": "ipython3",
   "version": "3.7.4"
  }
 },
 "nbformat": 4,
 "nbformat_minor": 4
}
