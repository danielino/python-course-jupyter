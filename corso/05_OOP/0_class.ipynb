{
 "cells": [
  {
   "cell_type": "markdown",
   "metadata": {},
   "source": [
    "# Programmazione ad oggetti"
   ]
  },
  {
   "cell_type": "markdown",
   "metadata": {},
   "source": [
    "## Cenni sulle classi\n",
    "\n",
    "per definire una classe si utilizza la keyword `class` <NomeClasse>:\n",
    "    \n",
    "```python\n",
    "class MiaClasse:\n",
    "    # __init__ è il costruttore, viene eseguito quando viene creato l'oggetto\n",
    "    # self è la keyword che permette di accedere agli altri metodi della classe\n",
    "    # deve essere specificata obbligatoriamente come primo parametro della funzione\n",
    "    def __init__(self):\n",
    "        pass\n",
    "    \n",
    "    def miafunzione(self):\n",
    "        return \"miafunzione\"\n",
    "    \n",
    "    def mia_funzione_params(self, parametro):\n",
    "        return \"ciao \" + parametro\n",
    "```\n",
    "    \n",
    "per creare un nuovo oggetto di tipologia MiaClasse si usa chiamare la classe attraverso le parenetesi, come se fosse una funzione.\n",
    "    \n",
    "```python\n",
    "m = MiaClasse()\n",
    "\n",
    "```"
   ]
  },
  {
   "cell_type": "markdown",
   "metadata": {},
   "source": [
    "## Definizione della classe Persona\n",
    "\n",
    "attraverso la classe Persona, possiamo istanziare oggetti che rappresentano una persona.\n",
    "\n",
    "attraverso il costruttore `__init__` richiediamo due argomenti che andranno specificati quando si creerà un nuovo oggetto di tipologia Persona"
   ]
  },
  {
   "cell_type": "code",
   "execution_count": 17,
   "metadata": {},
   "outputs": [
    {
     "name": "stdout",
     "output_type": "stream",
     "text": [
      "mario rossi> ciao\n",
      "giacomo bianchi> ciao\n"
     ]
    }
   ],
   "source": [
    "class Persona:\n",
    "    \n",
    "    def __init__(self, nome, cognome):\n",
    "        self.nome = nome\n",
    "        self.cognome = cognome\n",
    "        \n",
    "    # metodo che ci permette di ritornare il nome completo della persona\n",
    "    # attraverso l'uninone delle proprietà nome e cognome\n",
    "    def nome_completo(self):\n",
    "        return f\"{self.nome} {self.cognome}\"\n",
    "    \n",
    "    # permette di stampare a scherom un determinato messaggio\n",
    "    # nel formato:\n",
    "    # Nome Completo> messaggio\n",
    "    def parla(self, message):\n",
    "        print(f\"{self.nome_completo()}> {message}\")\n",
    "        \n",
    "\n",
    "# creazione di due oggetti Persona\n",
    "mario = Persona(\"mario\", \"rossi\")\n",
    "giacomo = Persona(\"giacomo\", \"bianchi\")\n",
    "\n",
    "mario.parla(\"ciao\")\n",
    "giacomo.parla(\"ciao\")\n"
   ]
  },
  {
   "cell_type": "markdown",
   "metadata": {},
   "source": [
    "## Ereditarietà\n",
    "\n",
    "L'ereditarietà ci permette di definire una classe padre e delle classe figlie che ereditano tutti  i metodi e proprietà della classe genitrice.\n",
    "\n",
    "nel seguente esempio andiamo a definire un oggetto denominato Auto che rappresenta un automobile.\n",
    "\n",
    "le funzioni definite all'interno della classe vengono chiamate `metodi` dell'oggetto, mentre le variabili vengono definite `proprietà` dell'oggetto."
   ]
  },
  {
   "cell_type": "code",
   "execution_count": 88,
   "metadata": {},
   "outputs": [
    {
     "name": "stdout",
     "output_type": "stream",
     "text": [
      "{'marca': 'AlfaRomeo', 'modello': 'Giulietta', 'prezzo': 18600.0, 'stato_motore': 0, 'accessori': {'radio': <__main__.Accessorio object at 0x7f88b8234a50>, 'navigatore': <__main__.Accessorio object at 0x7f88c50e9950>}, 'numero_seriale': '11504936b6884c6080cc7037a1ee6811'}\n",
      "{'marca': 'Fiat', 'modello': 'Cinquecento', 'prezzo': 15000, 'stato_motore': 0, 'accessori': {}, 'numero_seriale': '9f152db11571452e9af341dd26374d8f'}\n"
     ]
    }
   ],
   "source": [
    "import uuid\n",
    "\n",
    "import logging\n",
    "\n",
    "logger_auto = logging.getLogger(\"Auto\")\n",
    "\n",
    "class Auto:\n",
    "    \n",
    "    MOTORE_SPENTO = 0\n",
    "    MOTORE_ACCESO = 1\n",
    "    \n",
    "    PREZZO_BASE = 0\n",
    "    \n",
    "    ## costruttore\n",
    "    def __init__(self, *args, **kwargs):\n",
    "        if 'prezzo' not in kwargs:\n",
    "            kwargs['prezzo'] = self.PREZZO_BASE\n",
    "        for key, val in kwargs.items():\n",
    "            setattr(self, key, val)\n",
    "        self.stato_motore = self.MOTORE_SPENTO\n",
    "        self.accessori = {}\n",
    "\n",
    "        # generiamo un nuovo serial number per ogni macchina\n",
    "        self.numero_seriale = uuid.uuid4().hex\n",
    "        \n",
    "        self._accessori_base()\n",
    "        for key, item in  self.accessori.items():\n",
    "            logger_auto.debug(\"aggiunto accessorio\", key)\n",
    "            self.prezzo += item.prezzo\n",
    "            \n",
    "    # viene implementato nelle classi figlie\n",
    "    def _accessori_base(self):\n",
    "        pass\n",
    "        \n",
    "    def accendi_motore(self):\n",
    "        self.stato_motore = self.MOTORE_ACCESO\n",
    "\n",
    "    def spegni_motore(self):\n",
    "        self.stato_motore = self.MOTORE_SPENTO\n",
    "        \n",
    "    def aggiungi_accessorio(self, *args, **kwargs):\n",
    "        for key, val in kwargs.items():\n",
    "            if key not in self.accessori:\n",
    "                logger_auto.debug(\"aggiunta accessorio \", key)\n",
    "                self.accessori[key] = val\n",
    "                self.prezzo += val.prezzo\n",
    "                \n",
    "    def modifica_accessorio(self, *args, **kwargs):\n",
    "        for key, val in kwargs.items():\n",
    "            self.accessori[key] = val\n",
    "            \n",
    "    def rimuovi_accessorio(self, *args, **kwargs):\n",
    "        for key, val in kwargs.items():\n",
    "            if key in self.accessori:\n",
    "                del(self.accessori[key])\n",
    "                self.prezzo -= val.prezzo\n",
    "        \n",
    "        \n",
    "class Accessorio:\n",
    "    \n",
    "    def __init__(self, nome: str, descrizione: str, prezzo: float):\n",
    "        self.nome = nome\n",
    "        self.descrizione = descrizione\n",
    "        self.prezzo = float(prezzo)\n",
    "        \n",
    "        \n",
    "# Definizione della classe che rappresenta il modello di auto.\n",
    "# estende la classe genitrice Auto e ne implementa tutti i metodi.\n",
    "class Cinquecento(Auto):\n",
    "    \n",
    "    PREZZO_BASE = 14000\n",
    "    \n",
    "    def __init__(self, *args, **kwargs):\n",
    "        # il prezzo finale della macchina comprende anche il costo degli accessori\n",
    "        super().__init__(marca=\"Fiat\", modello=self.__class__.__name__, **kwargs)\n",
    "\n",
    "class Giulietta(Auto):\n",
    "    \n",
    "    PREZZO_BASE = 15000\n",
    "    \n",
    "    # proprietà della classe, in condivisione con tutte le istanze\n",
    "    # se si creano N  oggetti di tipologia  Giulietta, la modifica di `accessori` ad un istanza \n",
    "    # comporta la modifica per tutti gli oggetti\n",
    "    # reference: https://docs.python.org/3/tutorial/classes.html#class-objects\n",
    "    \n",
    "    def __init__(self, *args, **kwargs):\n",
    "        # il prezzo finale della macchina comprende anche il costo degli accessori\n",
    "        super().__init__(marca=\"AlfaRomeo\", modello=self.__class__.__name__, **kwargs)\n",
    "        \n",
    "    def _accessori_base(self):\n",
    "        self.aggiungi_accessorio(radio=Accessorio(\"radio\",None, 300))\n",
    "        self.aggiungi_accessorio(navigatore=Accessorio(\"navigatore\",None, 1500))\n",
    "\n",
    "\n",
    "g = Giulietta(prezzo=15000)\n",
    "c = Cinquecento(prezzo=15000)\n",
    "print(g.__dict__)\n",
    "print(c.__dict__)\n",
    "        "
   ]
  },
  {
   "cell_type": "code",
   "execution_count": null,
   "metadata": {},
   "outputs": [],
   "source": []
  },
  {
   "cell_type": "code",
   "execution_count": 89,
   "metadata": {},
   "outputs": [],
   "source": [
    "import logging\n",
    "\n",
    "logger = logging.getLogger(\"Garage\")\n",
    "\n",
    "class Garage:\n",
    "    \n",
    "    def __init__(self, capienza_max: int = 40):\n",
    "        self.capienza_max = capienza_max\n",
    "        self.automobili = []\n",
    "        \n",
    "    def posti_disponibili(self):\n",
    "        return len(self.automobili) + 1 <= self.capienza_max\n",
    "        \n",
    "    def aggiungi_auto(self, auto: Auto):\n",
    "        if len(self.automobili) + 1 < self.capienza_max:\n",
    "            if not self.ricerca_auto(auto):\n",
    "                self.automobili.append(auto)\n",
    "            else:\n",
    "                logger.debug(\"auto già presente nel garage\")\n",
    "        else:\n",
    "            logger.debug(\"garage pieno, impossibile aggiungere auto\")\n",
    "            \n",
    "    def ricerca_auto(self, auto: Auto) -> Auto:\n",
    "        for item in self.automobili:\n",
    "            if item.numero_seriale ==  auto.numero_seriale:\n",
    "                return item\n",
    "        return None\n",
    "            \n",
    "    def rimuovi_auto(self, auto: Auto):\n",
    "        auto = self.ricerca_auto(auto)\n",
    "        if auto:\n",
    "            self.automobili.remove(auto)\n",
    "            logger.debug(\"auto rimossa\")\n",
    "        else:\n",
    "            logger.debug(\"auto non presente. impossibile rimuovere\")\n",
    "\n",
    "    def calcola_valore_magazzino(self):\n",
    "        count = 0.0\n",
    "        for item in self.automobili:\n",
    "            count += item.prezzo\n",
    "        return count"
   ]
  },
  {
   "cell_type": "code",
   "execution_count": 92,
   "metadata": {},
   "outputs": [
    {
     "name": "stdout",
     "output_type": "stream",
     "text": [
      "valore magazzino: 57800.0\n",
      "AlfaRomeo Giulietta b7fd6b5077e14cd39355762f92dbedd8 18600.0\n",
      "AlfaRomeo Giulietta 7fca51a0e4664b9c8fc4fc0801fbe60b 25200.0\n",
      "Fiat Cinquecento a727594879f64fcca6a5ee0ef24520fb 14000\n"
     ]
    }
   ],
   "source": [
    "g = Garage()\n",
    "\n",
    "giu1 = Giulietta()\n",
    "giu2 = Giulietta(prezzo=21000, motore=1600)\n",
    "ci1 = Cinquecento()\n",
    "giu2.aggiungi_accessorio(sensore_posteriore=Accessorio(\"sensori_parcheggio_posteriori\", \"Sensori Parcheggio Posteriori\", 300))\n",
    "giu2.aggiungi_accessorio(sensore_anteriore=Accessorio(\"sensori_parcheggio_anteriori\", \"Sensori Parcheggio Anteriori\", 300))\n",
    "\n",
    "g.aggiungi_auto(giu1)\n",
    "g.aggiungi_auto(giu2)\n",
    "g.aggiungi_auto(ci1)\n",
    "\n",
    "print(\"valore magazzino: {}\".format(g.calcola_valore_magazzino()))\n",
    "for item in g.automobili:\n",
    "    print(item.marca, item.modello, item.numero_seriale, item.prezzo)"
   ]
  },
  {
   "cell_type": "code",
   "execution_count": null,
   "metadata": {},
   "outputs": [],
   "source": []
  },
  {
   "cell_type": "code",
   "execution_count": null,
   "metadata": {},
   "outputs": [],
   "source": []
  },
  {
   "cell_type": "code",
   "execution_count": null,
   "metadata": {},
   "outputs": [],
   "source": []
  },
  {
   "cell_type": "code",
   "execution_count": null,
   "metadata": {},
   "outputs": [],
   "source": []
  },
  {
   "cell_type": "code",
   "execution_count": null,
   "metadata": {},
   "outputs": [],
   "source": []
  },
  {
   "cell_type": "code",
   "execution_count": null,
   "metadata": {},
   "outputs": [],
   "source": []
  },
  {
   "cell_type": "code",
   "execution_count": null,
   "metadata": {},
   "outputs": [],
   "source": []
  },
  {
   "cell_type": "code",
   "execution_count": null,
   "metadata": {},
   "outputs": [],
   "source": []
  },
  {
   "cell_type": "code",
   "execution_count": null,
   "metadata": {},
   "outputs": [],
   "source": []
  },
  {
   "cell_type": "code",
   "execution_count": null,
   "metadata": {},
   "outputs": [],
   "source": []
  },
  {
   "cell_type": "code",
   "execution_count": null,
   "metadata": {},
   "outputs": [],
   "source": []
  },
  {
   "cell_type": "code",
   "execution_count": null,
   "metadata": {},
   "outputs": [],
   "source": []
  },
  {
   "cell_type": "code",
   "execution_count": null,
   "metadata": {},
   "outputs": [],
   "source": []
  },
  {
   "cell_type": "code",
   "execution_count": null,
   "metadata": {},
   "outputs": [],
   "source": []
  },
  {
   "cell_type": "code",
   "execution_count": null,
   "metadata": {},
   "outputs": [],
   "source": []
  },
  {
   "cell_type": "code",
   "execution_count": null,
   "metadata": {},
   "outputs": [],
   "source": []
  },
  {
   "cell_type": "code",
   "execution_count": null,
   "metadata": {},
   "outputs": [],
   "source": []
  },
  {
   "cell_type": "code",
   "execution_count": null,
   "metadata": {},
   "outputs": [],
   "source": []
  },
  {
   "cell_type": "code",
   "execution_count": null,
   "metadata": {},
   "outputs": [],
   "source": []
  },
  {
   "cell_type": "code",
   "execution_count": null,
   "metadata": {},
   "outputs": [],
   "source": []
  },
  {
   "cell_type": "code",
   "execution_count": null,
   "metadata": {},
   "outputs": [],
   "source": []
  },
  {
   "cell_type": "code",
   "execution_count": null,
   "metadata": {},
   "outputs": [],
   "source": []
  },
  {
   "cell_type": "code",
   "execution_count": null,
   "metadata": {},
   "outputs": [],
   "source": []
  },
  {
   "cell_type": "code",
   "execution_count": null,
   "metadata": {},
   "outputs": [],
   "source": []
  },
  {
   "cell_type": "code",
   "execution_count": null,
   "metadata": {},
   "outputs": [],
   "source": []
  },
  {
   "cell_type": "code",
   "execution_count": null,
   "metadata": {},
   "outputs": [],
   "source": []
  }
 ],
 "metadata": {
  "kernelspec": {
   "display_name": "Python 3",
   "language": "python",
   "name": "python3"
  },
  "language_info": {
   "codemirror_mode": {
    "name": "ipython",
    "version": 3
   },
   "file_extension": ".py",
   "mimetype": "text/x-python",
   "name": "python",
   "nbconvert_exporter": "python",
   "pygments_lexer": "ipython3",
   "version": "3.7.4"
  }
 },
 "nbformat": 4,
 "nbformat_minor": 4
}
