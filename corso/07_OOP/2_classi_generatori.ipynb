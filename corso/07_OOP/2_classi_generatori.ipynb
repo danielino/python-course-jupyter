{
 "cells": [
  {
   "cell_type": "markdown",
   "metadata": {},
   "source": [
    "# Classi Generatori"
   ]
  },
  {
   "cell_type": "code",
   "execution_count": 3,
   "metadata": {},
   "outputs": [
    {
     "name": "stdout",
     "output_type": "stream",
     "text": [
      "palla\n",
      "rete\n",
      "materasso\n"
     ]
    }
   ],
   "source": [
    "## Classi generatori\n",
    "\n",
    "class Carrello:\n",
    "    \n",
    "    def __init__(self, elementi):\n",
    "        self.elementi = elementi\n",
    "    \n",
    "    # il metodo __iter__ permette di definire le azioni da compiere\n",
    "    # quando si itera l'oggetto attraverso il for. \n",
    "    # attenzione: non si può usare il next() sull'oggetto Carrello\n",
    "    def __iter__(self):\n",
    "        for item in self.elementi:\n",
    "            yield item\n",
    "    \n",
    "    \n",
    "c = Carrello([\"palla\", \"rete\", \"materasso\"])\n",
    "for item in c:\n",
    "    print(item)\n",
    "    "
   ]
  },
  {
   "cell_type": "code",
   "execution_count": null,
   "metadata": {},
   "outputs": [],
   "source": []
  }
 ],
 "metadata": {
  "kernelspec": {
   "display_name": "Python 3",
   "language": "python",
   "name": "python3"
  },
  "language_info": {
   "codemirror_mode": {
    "name": "ipython",
    "version": 3
   },
   "file_extension": ".py",
   "mimetype": "text/x-python",
   "name": "python",
   "nbconvert_exporter": "python",
   "pygments_lexer": "ipython3",
   "version": "3.7.4"
  }
 },
 "nbformat": 4,
 "nbformat_minor": 4
}
