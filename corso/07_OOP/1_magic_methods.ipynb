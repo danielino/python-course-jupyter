{
 "cells": [
  {
   "cell_type": "markdown",
   "metadata": {},
   "source": [
    "# Magic Methods\n",
    "\n",
    "i `class magic methods` in python sono dei metodi speciali che permettono di introdurre un po' di `magia` nella scrittura del software.\n",
    "\n",
    "\n",
    "\n"
   ]
  },
  {
   "cell_type": "code",
   "execution_count": 10,
   "metadata": {},
   "outputs": [
    {
     "name": "stdout",
     "output_type": "stream",
     "text": [
      "p > 30 = False\n",
      "p >= 30 = True\n",
      "p < 50 = True\n",
      "p == 30 = True\n"
     ]
    }
   ],
   "source": [
    "class Persona:\n",
    "    \n",
    "    def __init__(self, nome, cognome, eta):\n",
    "        self.nome = nome\n",
    "        self.cognome = cognome\n",
    "        self.eta = eta\n",
    "    \n",
    "    def nome_completo(self):\n",
    "        return f\"{self.nome} {self.cognome}\"\n",
    "\n",
    "    # operatore di eguaglianza\n",
    "    def __eq__(self, value):\n",
    "        return self.eta == value\n",
    "    \n",
    "    # maggiore di \n",
    "    def __gt__(self, value):\n",
    "        return self.eta > value\n",
    "    \n",
    "    # maggiore o uguale a\n",
    "    def __ge__(self, value):\n",
    "        return self.eta >= value\n",
    "    \n",
    "    # minore di\n",
    "    def __lt__(self, value):\n",
    "        return self.eta < value\n",
    "    \n",
    "    # minore o uguale a\n",
    "    def __le__(self, value):\n",
    "        return self.etta <= value\n",
    "\n",
    "    # ...\n",
    "    \n",
    "\n",
    "def _print(act, res):\n",
    "    print(f\"{act} = {res}\")\n",
    "    \n",
    "p = Persona(\"mario\", \"rossi\", 30)\n",
    "\n",
    "_print(\"p > 30\", p > 30) __gt__\n",
    "_print(\"p >= 30\", p >= 30) __ge__\n",
    "_print(\"p < 50\", p < 50) __lt__ \n",
    "_print(\"p == 30\", p == 30) __eq__\n",
    "\n",
    "\n",
    "    "
   ]
  },
  {
   "cell_type": "code",
   "execution_count": null,
   "metadata": {},
   "outputs": [],
   "source": []
  }
 ],
 "metadata": {
  "kernelspec": {
   "display_name": "Python 3",
   "language": "python",
   "name": "python3"
  },
  "language_info": {
   "codemirror_mode": {
    "name": "ipython",
    "version": 3
   },
   "file_extension": ".py",
   "mimetype": "text/x-python",
   "name": "python",
   "nbconvert_exporter": "python",
   "pygments_lexer": "ipython3",
   "version": "3.7.4"
  }
 },
 "nbformat": 4,
 "nbformat_minor": 4
}
