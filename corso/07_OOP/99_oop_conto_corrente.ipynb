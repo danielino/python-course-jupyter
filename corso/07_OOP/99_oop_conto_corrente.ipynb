{
 "cells": [
  {
   "cell_type": "markdown",
   "metadata": {},
   "source": [
    "# Conto Corrente in python\n",
    "\n",
    "\n",
    "nella  lezione verrà mostrato come creare una classe che corrisponda ad un conto corrente bancario in cui è possibile eseguire le comuni azioni:\n",
    "- apertura conto\n",
    "- deposito\n",
    "- prelievo\n",
    "- richiesta fido\n",
    "- richiesta prestito\n",
    "\n",
    "la classe `Banca` definirà l'istituo in cui viene aperto il conto Corrente\n"
   ]
  },
  {
   "cell_type": "code",
   "execution_count": 54,
   "metadata": {},
   "outputs": [],
   "source": [
    "class Persona:\n",
    "    \n",
    "    def __init__(self, nome, cognome):\n",
    "        self.nome = nome\n",
    "        self.cognome = cognome\n",
    "        \n",
    "    # metodo che ci permette di ritornare il nome completo della persona\n",
    "    # attraverso l'uninone delle proprietà nome e cognome\n",
    "    def nome_completo(self):\n",
    "        return f\"{self.nome} {self.cognome}\"\n",
    "    \n",
    "    # permette di stampare a scherom un determinato messaggio\n",
    "    # nel formato:\n",
    "    # Nome Completo> messaggio\n",
    "    def parla(self, message):\n",
    "        print(f\"{self.nome_completo()}> {message}\")\n",
    "        "
   ]
  },
  {
   "cell_type": "code",
   "execution_count": 10,
   "metadata": {},
   "outputs": [],
   "source": [
    "class Carta:\n",
    "    \n",
    "    def __init__(self, tipologia: str, prelievo_max: float = 0, operazione_max: float = 0):\n",
    "        self.tipologia = tipologia\n",
    "        self.prelievo_max = prelievo_max\n",
    "        self.operazione_max = operazione_max\n",
    "        \n",
    "class CartaDebito(Carta):\n",
    "    def __init__(self, prelievo_max: float = 500.0, operazione_max: float = 1000.0):\n",
    "        super().__init__('debito', prelievo_max, operazione_max)\n",
    "\n",
    "class CartaCredito(Carta):\n",
    "    def __init__(self, prelievo_max: float = 1500.0, operazione_max: float = 1500.0):\n",
    "        super().__init__('credito', prelievo_max, operazione_max)"
   ]
  },
  {
   "cell_type": "code",
   "execution_count": 11,
   "metadata": {},
   "outputs": [
    {
     "name": "stdout",
     "output_type": "stream",
     "text": [
      "1000\n",
      "1500\n"
     ]
    }
   ],
   "source": [
    "c = CartaDebito(1500, 1000)\n",
    "print(c.operazione_max)\n",
    "print(c.prelievo_max)"
   ]
  },
  {
   "cell_type": "code",
   "execution_count": 56,
   "metadata": {},
   "outputs": [],
   "source": [
    "import uuid\n",
    "import logging\n",
    "import time\n",
    "\n",
    "logging.basicConfig(level=logging.DEBUG)\n",
    "logger = logging.getLogger(\"ContoCorrente\")\n",
    "\n",
    "\n",
    "class ContoCorrente:\n",
    "    \n",
    "    def __init__(self, owner: Persona, saldo: int = 0, aperto: bool = True, fido: bool = False, **kwargs):\n",
    "        self.owner = owner\n",
    "        self.saldo = saldo\n",
    "        self.aperto = aperto\n",
    "        self.numero_conto = uuid.uuid4().hex\n",
    "        self._events = []\n",
    "        self._cards = []\n",
    "        self.apri()\n",
    "        if fido:\n",
    "            self.richiedi_fido()\n",
    "        else:\n",
    "            self.fido = 0\n",
    "            self.fido_max = 0\n",
    "        for k, v in kwargs.items():\n",
    "            setattr(self, k, v)\n",
    "\n",
    "    def genera_evento(self, message, level='info'):\n",
    "        self._events.append({\n",
    "            \"timestamp\" : time.time(),\n",
    "            \"message\" : message,\n",
    "            \"level\" : level\n",
    "        })\n",
    "        \n",
    "    @property\n",
    "    def events(self):\n",
    "        return sorted(self._events, key = lambda i: i['timestamp']) \n",
    "    \n",
    "    @property\n",
    "    def events_human(self):\n",
    "        for item in self.events:\n",
    "            yield f\"{self.numero_conto} - {item['timestamp']} -> {item['message']}\"\n",
    "            \n",
    "    def apri(self):\n",
    "        logger.info(f\"richiesta apertura conto corrente a nome di {self.owner.nome_completo()}\")\n",
    "        self.genera_evento(\"apertura conto\")\n",
    "        if not self.aperto:\n",
    "            self.aperto = True\n",
    "            return\n",
    "        \n",
    "    def chiudi(self):\n",
    "        logger.info(\"richiesta chiusura conto\")\n",
    "        self.genera_evento(\"chiusura conto\")\n",
    "        if self.aperto:\n",
    "            self.aperto = False\n",
    "        \n",
    "    def preleva(self, valore: float):\n",
    "        if self.aperto:\n",
    "            if (self.saldo ) - valore < (0 - self.fido) :\n",
    "                raise Exception(\"importo da prelevare non disponibile\")\n",
    "            \n",
    "            logger.info(f\"richiesta di prelievo: {valore}\")\n",
    "            self.saldo -= valore\n",
    "            self.genera_evento(f\"prelevato {valore}€\")\n",
    "        return\n",
    "            \n",
    "    def deposita(self, valore: float):\n",
    "        if self.aperto:\n",
    "            logger.info(f\"richiesta di deposito {valore}\")\n",
    "            self.saldo += valore\n",
    "            self.genera_evento(f\"depositato {valore}€\")\n",
    "        return\n",
    "        \n",
    "    def richiedi_fido(self):\n",
    "        if getattr(self, 'fido', None):\n",
    "            logger.error(\"fido già richiesto in precedenza\")\n",
    "            return\n",
    "        logger.info(\"richiesta fido\")\n",
    "        if self.saldo >= 0 and self.saldo <= 1000:\n",
    "            self.fido = 500\n",
    "            self.fido_max = self.fido\n",
    "        elif self.saldo > 1000 and self.saldo< 100000:\n",
    "            self.fido = 2500\n",
    "            self.fido_max = self.fido\n",
    "        else:\n",
    "            self.fido = 5000\n",
    "            self.fido_max = self.fido\n",
    "        logger.info(f\"richiesta fido approvata: {self.fido}€\")\n",
    "            \n",
    "    def saldo_disponibile(self, fido: bool = True) -> float:\n",
    "        if self.fido:\n",
    "            return self.saldo + self.fido\n",
    "        return self.saldo\n"
   ]
  },
  {
   "cell_type": "code",
   "execution_count": 57,
   "metadata": {},
   "outputs": [],
   "source": [
    "class Banca:\n",
    "    \n",
    "    def __init__(self, nome):\n",
    "        self.nome = nome\n",
    "        self.conti_correnti = []\n",
    "        \n",
    "    def apri_conto_corrente(self, conto: ContoCorrente) -> ContoCorrente:\n",
    "        self.conti_correnti.append(conto)\n",
    "        \n",
    "    def cerca_conto(self, numero: str):\n",
    "        for item in self.conti_correnti:\n",
    "            if item.numero_conto == numero:\n",
    "                return item\n",
    "        raise Exception(f\"conto {numero} non trovato\")\n",
    "        \n",
    "    def chiudi_conto_corrente(self, conto: ContoCorrente):\n",
    "        self.cerca_conto(conto.numero_conto)\n",
    "        \n",
    "    \n",
    "        "
   ]
  },
  {
   "cell_type": "code",
   "execution_count": 60,
   "metadata": {},
   "outputs": [
    {
     "name": "stderr",
     "output_type": "stream",
     "text": [
      "INFO:ContoCorrente:richiesta apertura conto corrente a nome di Mario Rossi\n",
      "INFO:__main__:saldo disponibile: 3000\n",
      "INFO:__main__:fido: 0\n",
      "INFO:__main__:saldo reale: 3000\n",
      "INFO:ContoCorrente:richiesta di deposito 10000\n",
      "INFO:ContoCorrente:richiesta di prelievo: 5000\n",
      "INFO:__main__:saldo disponibile: 8000\n",
      "INFO:ContoCorrente:richiesta fido\n",
      "INFO:ContoCorrente:richiesta fido approvata: 2500€\n",
      "INFO:__main__:saldo disponibile: 10500\n"
     ]
    },
    {
     "name": "stdout",
     "output_type": "stream",
     "text": [
      "033e14b605fb4c8381fc304478585ea4 - 1580675663.4497747 -> apertura conto\n",
      "033e14b605fb4c8381fc304478585ea4 - 1580675663.4535398 -> depositato 10000€\n",
      "033e14b605fb4c8381fc304478585ea4 - 1580675663.454458 -> prelevato 5000€\n"
     ]
    }
   ],
   "source": [
    "banca = Banca(\"Python\")\n",
    "\n",
    "def apri_conto_uno(banca: Banca):\n",
    "    persona = Persona(nome=\"Mario\", cognome=\"Rossi\")\n",
    "    conto = ContoCorrente(owner=persona, saldo = 3000)\n",
    "    banca.apri_conto_corrente(conto)\n",
    "    return conto\n",
    "\n",
    "conto = apri_conto_uno(banca)\n",
    "mainlogger = logging.getLogger(\"__main__\")\n",
    "mainlogger.info(f\"saldo disponibile: {conto.saldo_disponibile()}\")\n",
    "mainlogger.info(f\"fido: {conto.fido}\")\n",
    "mainlogger.info(f\"saldo reale: {conto.saldo}\")\n",
    "conto.deposita(10000)\n",
    "conto.preleva(5000)\n",
    "print(\"\\n\".join(conto.events_human))\n",
    "mainlogger.info(f\"saldo disponibile: {conto.saldo_disponibile()}\")\n",
    "conto.richiedi_fido()\n",
    "mainlogger.info(f\"saldo disponibile: {conto.saldo_disponibile()}\")"
   ]
  },
  {
   "cell_type": "code",
   "execution_count": null,
   "metadata": {},
   "outputs": [],
   "source": []
  }
 ],
 "metadata": {
  "kernelspec": {
   "display_name": "Python 3",
   "language": "python",
   "name": "python3"
  },
  "language_info": {
   "codemirror_mode": {
    "name": "ipython",
    "version": 3
   },
   "file_extension": ".py",
   "mimetype": "text/x-python",
   "name": "python",
   "nbconvert_exporter": "python",
   "pygments_lexer": "ipython3",
   "version": "3.7.4"
  }
 },
 "nbformat": 4,
 "nbformat_minor": 4
}
