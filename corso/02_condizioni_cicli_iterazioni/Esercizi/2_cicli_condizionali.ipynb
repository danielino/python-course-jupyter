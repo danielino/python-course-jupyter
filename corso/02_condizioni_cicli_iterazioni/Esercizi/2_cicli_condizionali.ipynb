{
 "cells": [
  {
   "cell_type": "markdown",
   "metadata": {},
   "source": [
    "# Cicli Condizionali"
   ]
  },
  {
   "cell_type": "markdown",
   "metadata": {},
   "source": [
    "## 1) Creare una lista con i numeri pari da 0 a 30"
   ]
  },
  {
   "cell_type": "code",
   "execution_count": 7,
   "metadata": {},
   "outputs": [
    {
     "ename": "SyntaxError",
     "evalue": "invalid syntax (<ipython-input-7-df043a38f7c0>, line 4)",
     "output_type": "error",
     "traceback": [
      "\u001b[0;36m  File \u001b[0;32m\"<ipython-input-7-df043a38f7c0>\"\u001b[0;36m, line \u001b[0;32m4\u001b[0m\n\u001b[0;31m    for range(0,30):\u001b[0m\n\u001b[0m                   ^\u001b[0m\n\u001b[0;31mSyntaxError\u001b[0m\u001b[0;31m:\u001b[0m invalid syntax\n"
     ]
    }
   ],
   "source": [
    "\n",
    "data = []\n",
    "\n",
    "# modificare lo statement for\n",
    "for range(0,30):\n",
    "    # modificare l'if\n",
    "    if :\n",
    "        # aggiungere l'elemento alla lista `data`\n",
    "    \n",
    "    \n",
    "assert len(data) == 15\n",
    "assert data[0] == 0\n",
    "assert data[-1] == 28"
   ]
  },
  {
   "cell_type": "markdown",
   "metadata": {},
   "source": [
    "## 2) Generare una lista con i numeri dispari maggiori di 30 nell'intervallo da 10 a 50\n",
    "\n",
    "il primo numero corrisponderà a 31 e l'ultimo numero a 49\n",
    "\n",
    "**hint**: è necessaria una doppia condizione"
   ]
  },
  {
   "cell_type": "code",
   "execution_count": 16,
   "metadata": {},
   "outputs": [
    {
     "ename": "SyntaxError",
     "evalue": "invalid syntax (<ipython-input-16-ecff5eaab9fe>, line 3)",
     "output_type": "error",
     "traceback": [
      "\u001b[0;36m  File \u001b[0;32m\"<ipython-input-16-ecff5eaab9fe>\"\u001b[0;36m, line \u001b[0;32m3\u001b[0m\n\u001b[0;31m    if:\u001b[0m\n\u001b[0m      ^\u001b[0m\n\u001b[0;31mSyntaxError\u001b[0m\u001b[0;31m:\u001b[0m invalid syntax\n"
     ]
    }
   ],
   "source": [
    "data = []\n",
    "for item in range(10,50):\n",
    "    if:\n",
    "        # aggiungere l'elemento alla lista `data`\n",
    "        \n",
    "assert len(data) == 10\n",
    "assert data[0] == 31\n",
    "assert data[-1] == 49"
   ]
  },
  {
   "cell_type": "markdown",
   "metadata": {},
   "source": [
    "## 3) trovare il valore più grande all'interno di una lista di interi\n",
    "\n",
    "**hint:**\n",
    "    scorrere l'array alla ricerca del numero più grande\n",
    "    utilizzare una variabile per registare il valore più alto trovato nella variabile `numero_max` durante l'iterazione"
   ]
  },
  {
   "cell_type": "code",
   "execution_count": 9,
   "metadata": {},
   "outputs": [
    {
     "ename": "SyntaxError",
     "evalue": "invalid syntax (<ipython-input-9-d5df2dcc68a5>, line 7)",
     "output_type": "error",
     "traceback": [
      "\u001b[0;36m  File \u001b[0;32m\"<ipython-input-9-d5df2dcc68a5>\"\u001b[0;36m, line \u001b[0;32m7\u001b[0m\n\u001b[0;31m    for:\u001b[0m\n\u001b[0m       ^\u001b[0m\n\u001b[0;31mSyntaxError\u001b[0m\u001b[0;31m:\u001b[0m invalid syntax\n"
     ]
    }
   ],
   "source": [
    "# lista con numeri a caso (il codice verrà spiegato nei capitoli successivi)\n",
    "import random\n",
    "numeri = [random.randint(0, 1929392) for x in range(50,152)]\n",
    "\n",
    "numero_max = 0\n",
    "# modificare il codice\n",
    "for:\n"
   ]
  },
  {
   "cell_type": "markdown",
   "metadata": {},
   "source": [
    "## 4) conteggio delle vocali\n",
    "\n",
    "analizzare la parola e incrementare il valore del dizionario quando si trova la vocale corrispondente\n",
    "\n"
   ]
  },
  {
   "cell_type": "code",
   "execution_count": 12,
   "metadata": {},
   "outputs": [
    {
     "name": "stdout",
     "output_type": "stream",
     "text": [
      "{'a': 3, 'e': 2, 'i': 6, 'o': 1, 'u': 1}\n"
     ]
    }
   ],
   "source": [
    "parola = \"supercaligragilichespiralidosi\"\n",
    "\n",
    "vocali = {\n",
    "    \"a\" : 0,\n",
    "    \"e\" : 0,\n",
    "    \"i\" : 0,\n",
    "    \"o\" : 0,\n",
    "    \"u\" : 0\n",
    "}\n",
    "\n",
    "for:\n",
    "    \n",
    "print(vocali)\n"
   ]
  },
  {
   "cell_type": "code",
   "execution_count": null,
   "metadata": {},
   "outputs": [],
   "source": []
  }
 ],
 "metadata": {
  "kernelspec": {
   "display_name": "Python 3",
   "language": "python",
   "name": "python3"
  },
  "language_info": {
   "codemirror_mode": {
    "name": "ipython",
    "version": 3
   },
   "file_extension": ".py",
   "mimetype": "text/x-python",
   "name": "python",
   "nbconvert_exporter": "python",
   "pygments_lexer": "ipython3",
   "version": "3.7.4"
  }
 },
 "nbformat": 4,
 "nbformat_minor": 4
}
