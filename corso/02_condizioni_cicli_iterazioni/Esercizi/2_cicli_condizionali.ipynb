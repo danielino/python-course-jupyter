{
 "cells": [
  {
   "cell_type": "markdown",
   "metadata": {},
   "source": [
    "# Cicli Condizionali"
   ]
  },
  {
   "cell_type": "markdown",
   "metadata": {},
   "source": [
    "## 1) Creare una lista con i numeri pari da 0 a 30"
   ]
  },
  {
   "cell_type": "code",
   "execution_count": 7,
   "metadata": {},
   "outputs": [
    {
     "ename": "SyntaxError",
     "evalue": "invalid syntax (<ipython-input-7-df043a38f7c0>, line 4)",
     "output_type": "error",
     "traceback": [
      "\u001b[0;36m  File \u001b[0;32m\"<ipython-input-7-df043a38f7c0>\"\u001b[0;36m, line \u001b[0;32m4\u001b[0m\n\u001b[0;31m    for range(0,30):\u001b[0m\n\u001b[0m                   ^\u001b[0m\n\u001b[0;31mSyntaxError\u001b[0m\u001b[0;31m:\u001b[0m invalid syntax\n"
     ]
    }
   ],
   "source": [
    "\n",
    "data = []\n",
    "\n",
    "# modificare lo statement for\n",
    "for range(0,30):\n",
    "    # modificare l'if\n",
    "    if :\n",
    "        # aggiungere l'elemento alla lista `data`\n",
    "    \n",
    "    \n",
    "assert len(data) == 15\n",
    "assert data[0] == 0\n",
    "assert data[-1] == 28"
   ]
  },
  {
   "cell_type": "markdown",
   "metadata": {},
   "source": [
    "## 2) Generare una lista con i numeri dispari maggiori di 30 nell'intervallo da 10 a 50\n",
    "\n",
    "il primo numero corrisponderà a 31 e l'ultimo numero a 49\n",
    "\n",
    "**hint**: è necessaria una doppia condizione"
   ]
  },
  {
   "cell_type": "code",
   "execution_count": 16,
   "metadata": {},
   "outputs": [
    {
     "ename": "SyntaxError",
     "evalue": "invalid syntax (<ipython-input-16-ecff5eaab9fe>, line 3)",
     "output_type": "error",
     "traceback": [
      "\u001b[0;36m  File \u001b[0;32m\"<ipython-input-16-ecff5eaab9fe>\"\u001b[0;36m, line \u001b[0;32m3\u001b[0m\n\u001b[0;31m    if:\u001b[0m\n\u001b[0m      ^\u001b[0m\n\u001b[0;31mSyntaxError\u001b[0m\u001b[0;31m:\u001b[0m invalid syntax\n"
     ]
    }
   ],
   "source": [
    "data = []\n",
    "for item in range(10,50):\n",
    "    if:\n",
    "        # aggiungere l'elemento alla lista `data`\n",
    "        \n",
    "assert len(data) == 10\n",
    "assert data[0] == 31\n",
    "assert data[-1] == 49"
   ]
  },
  {
   "cell_type": "markdown",
   "metadata": {},
   "source": [
    "## 3) Numero massimo di ticket acquistabili\n",
    "\n",
    "abbiamo a disposizione 550€ e dobbiamo acquistare quanti più ticket possibili per il concerto.\n",
    "\n",
    "- Biglietto Regolare: 47€\n",
    "- Biglietto Ridotto: 25€\n",
    "\n",
    "\n",
    "calcolare il numero massimo di biglietti acquistabili considerando che devono partecipare almeno: \n",
    "\n",
    "- 3 adulti\n",
    "- 5 bambini\n",
    "\n"
   ]
  },
  {
   "cell_type": "code",
   "execution_count": 19,
   "metadata": {},
   "outputs": [],
   "source": [
    "costo_biglietto_intero = 47\n",
    "costo_biglietto_ridotto = 25\n",
    "soldi_disponibili = 550\n",
    "\n",
    "comitiva = {\n",
    "    \"bambini\" : [\"Mario\", \"Simone\", \"Carlo\", \"Giulia\", \"Francesca\", \"Veronica\", \"Emanuele\"],\n",
    "    \"adulti\" : [\"Daniele\", \"Fabio\", \"Maria\", \"Paolo\", \"Gabriele\", \"Giacomo\"]\n",
    "}\n",
    "\n",
    "minimo_adulti = 3\n",
    "minimo_bambini = 5\n",
    "\n",
    "costo_minimo_adulti = minimo_adulti * costo_biglietto_intero\n",
    "costo_minimo_bambini = minimo_bambini * costo_biglietto_ridotto\n",
    "costo_minimo_totale = costo_minimo_adulti + costo_minimo_totale\n",
    "soldi_disponibili -= costo_minimo_totale\n",
    "\n",
    "\n",
    "partecipanti = {\n",
    "    \"bambini\" : [],\n",
    "    \"adulti\" : []\n",
    "}\n",
    "\n",
    "# continua con il tuo codice\n",
    "partecipanti['bambini'].append(comtiva['bambini'].pop(0))\n"
   ]
  },
  {
   "cell_type": "code",
   "execution_count": null,
   "metadata": {},
   "outputs": [],
   "source": []
  }
 ],
 "metadata": {
  "kernelspec": {
   "display_name": "Python 3",
   "language": "python",
   "name": "python3"
  },
  "language_info": {
   "codemirror_mode": {
    "name": "ipython",
    "version": 3
   },
   "file_extension": ".py",
   "mimetype": "text/x-python",
   "name": "python",
   "nbconvert_exporter": "python",
   "pygments_lexer": "ipython3",
   "version": "3.7.4"
  }
 },
 "nbformat": 4,
 "nbformat_minor": 4
}
