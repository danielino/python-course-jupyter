{
 "cells": [
  {
   "cell_type": "markdown",
   "metadata": {},
   "source": [
    "# Iterator\n",
    "\n",
    "in python ogni oggetto che può essere trattao come una sequenza è definito iterabile.\n",
    "\n",
    "```python\n",
    "# range genera un iterabile\n",
    "for item in range(10):\n",
    "    print(item)\n",
    "```"
   ]
  },
  {
   "cell_type": "code",
   "execution_count": 2,
   "metadata": {},
   "outputs": [
    {
     "name": "stdout",
     "output_type": "stream",
     "text": [
      "0\n",
      "1\n",
      "2\n"
     ]
    }
   ],
   "source": [
    "for item in range(3):\n",
    "    print(item)"
   ]
  },
  {
   "cell_type": "code",
   "execution_count": 3,
   "metadata": {},
   "outputs": [
    {
     "name": "stdout",
     "output_type": "stream",
     "text": [
      "1\n",
      "2\n",
      "3\n"
     ]
    }
   ],
   "source": [
    "for item in [1,2,3]:\n",
    "    print(item)"
   ]
  },
  {
   "cell_type": "code",
   "execution_count": 7,
   "metadata": {},
   "outputs": [
    {
     "name": "stdout",
     "output_type": "stream",
     "text": [
      "nome\n",
      "cognome\n"
     ]
    }
   ],
   "source": [
    "for item in {\"nome\" : \"mario\", \"cognome\" : \"rossi\"}:\n",
    "    print(item)"
   ]
  },
  {
   "cell_type": "markdown",
   "metadata": {},
   "source": [
    "## Generatori\n",
    "\n",
    "i generatori permettono di creare delle sequenze iterabili.\n",
    "a differenza delle liste, non sono indicizzabili attraverso delle chiavi ma possono le si può scorrere attraverso il ciclo for o utilizzando la funzione next(iterator)\n",
    "\n",
    "i generatori permettono di risparmiare memoria dato che l'elemento viene generato quando si scorre l'iteratore."
   ]
  },
  {
   "cell_type": "code",
   "execution_count": 19,
   "metadata": {},
   "outputs": [
    {
     "name": "stdout",
     "output_type": "stream",
     "text": [
      "The memory_profiler extension is already loaded. To reload it, use:\n",
      "  %reload_ext memory_profiler\n",
      "memory performance con yield\n",
      "peak memory: 89.58 MiB, increment: 0.00 MiB\n",
      "\n",
      "memory performance con lista\n",
      "peak memory: 147.94 MiB, increment: 58.36 MiB\n"
     ]
    }
   ],
   "source": [
    "ITEMS = 2000000\n",
    "\n",
    "def get_data():\n",
    "    for i in range(ITEMS):\n",
    "        yield f\"elem_{i}\"\n",
    "\n",
    "def get_list_data():\n",
    "    data = []\n",
    "    for i in range(ITEMS):\n",
    "        data.append(i)\n",
    "    return data\n",
    "        \n",
    "%load_ext memory_profiler\n",
    "\n",
    "print(\"memory performance con yield\")\n",
    "%memit get_data()\n",
    "print(\"\")\n",
    "print(\"memory performance con lista\")\n",
    "%memit get_list_data()\n"
   ]
  },
  {
   "cell_type": "code",
   "execution_count": null,
   "metadata": {},
   "outputs": [],
   "source": []
  }
 ],
 "metadata": {
  "kernelspec": {
   "display_name": "Python 3",
   "language": "python",
   "name": "python3"
  },
  "language_info": {
   "codemirror_mode": {
    "name": "ipython",
    "version": 3
   },
   "file_extension": ".py",
   "mimetype": "text/x-python",
   "name": "python",
   "nbconvert_exporter": "python",
   "pygments_lexer": "ipython3",
   "version": "3.7.4"
  }
 },
 "nbformat": 4,
 "nbformat_minor": 4
}
