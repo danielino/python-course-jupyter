{
 "cells": [
  {
   "cell_type": "markdown",
   "metadata": {},
   "source": [
    "# Iteratori\n",
    "\n",
    "in python ogni oggetto che può essere trattato come una sequenza è definito iterabile.\n",
    "\n",
    "```python\n",
    "# range genera un iterabile\n",
    "for item in range(10):\n",
    "    print(item)\n",
    "```"
   ]
  },
  {
   "cell_type": "code",
   "execution_count": 2,
   "metadata": {},
   "outputs": [
    {
     "name": "stdout",
     "output_type": "stream",
     "text": [
      "0\n",
      "1\n",
      "2\n"
     ]
    }
   ],
   "source": [
    "for item in range(3):\n",
    "    print(item)"
   ]
  },
  {
   "cell_type": "code",
   "execution_count": 3,
   "metadata": {},
   "outputs": [
    {
     "name": "stdout",
     "output_type": "stream",
     "text": [
      "1\n",
      "2\n",
      "3\n"
     ]
    }
   ],
   "source": [
    "for item in [1,2,3]:\n",
    "    print(item)"
   ]
  },
  {
   "cell_type": "code",
   "execution_count": 7,
   "metadata": {},
   "outputs": [
    {
     "name": "stdout",
     "output_type": "stream",
     "text": [
      "nome\n",
      "cognome\n"
     ]
    }
   ],
   "source": [
    "for item in {\"nome\" : \"mario\", \"cognome\" : \"rossi\"}:\n",
    "    print(item)"
   ]
  },
  {
   "cell_type": "markdown",
   "metadata": {},
   "source": [
    "## Generatori\n",
    "\n",
    "i generatori permettono di creare delle sequenze iterabili.\n",
    "a differenza delle liste, non sono indicizzabili attraverso delle chiavi ma possono le si può scorrere attraverso il ciclo for o utilizzando la funzione next(iterator)\n",
    "\n",
    "i generatori permettono di risparmiare memoria dato che l'elemento viene generato quando si scorre l'iteratore.\n",
    "\n",
    "la keyword `yield` in una funzione, permette di dar vita ad un generatore"
   ]
  },
  {
   "cell_type": "code",
   "execution_count": 18,
   "metadata": {},
   "outputs": [
    {
     "name": "stdout",
     "output_type": "stream",
     "text": [
      "The memory_profiler extension is already loaded. To reload it, use:\n",
      "  %reload_ext memory_profiler\n",
      "memory performance con yield\n",
      "peak memory: 67.88 MiB, increment: 0.00 MiB\n",
      "\n",
      "memory performance con lista\n",
      "peak memory: 119.10 MiB, increment: 51.21 MiB\n",
      "\n",
      "timing accesso al generatore\n",
      "The slowest run took 8.24 times longer than the fastest. This could mean that an intermediate result is being cached.\n",
      "900 ns ± 1 µs per loop (mean ± std. dev. of 7 runs, 1 loop each)\n",
      "\n",
      "timing accesso alla lista\n",
      "274 ms ± 1.43 ms per loop (mean ± std. dev. of 7 runs, 1 loop each)\n"
     ]
    }
   ],
   "source": [
    "ITEMS = 2500000\n",
    "\n",
    "# funzione, spiegata nei prossimi capitoli\n",
    "def get_data():\n",
    "    for i in range(ITEMS):\n",
    "        yield f\"elem_{i}\"\n",
    "\n",
    "def get_list_data():\n",
    "    data = []\n",
    "    for i in range(ITEMS):\n",
    "        data.append(i)\n",
    "    return data\n",
    "        \n",
    "%load_ext memory_profiler\n",
    "\n",
    "print(\"memory performance con yield\")\n",
    "%memit get_data()\n",
    "print(\"\")\n",
    "print(\"memory performance con lista\")\n",
    "%memit get_list_data()[0]\n",
    "print(\"\")\n",
    "print(\"timing accesso al generatore\")\n",
    "%timeit -n1 get_data()\n",
    "print(\"\")\n",
    "print(\"timing accesso alla lista\")\n",
    "%timeit -n1 get_list_data()[0]\n"
   ]
  },
  {
   "cell_type": "code",
   "execution_count": null,
   "metadata": {},
   "outputs": [],
   "source": []
  }
 ],
 "metadata": {
  "kernelspec": {
   "display_name": "Python 3",
   "language": "python",
   "name": "python3"
  },
  "language_info": {
   "codemirror_mode": {
    "name": "ipython",
    "version": 3
   },
   "file_extension": ".py",
   "mimetype": "text/x-python",
   "name": "python",
   "nbconvert_exporter": "python",
   "pygments_lexer": "ipython3",
   "version": "3.7.4"
  }
 },
 "nbformat": 4,
 "nbformat_minor": 4
}
