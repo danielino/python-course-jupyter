{
 "cells": [
  {
   "cell_type": "markdown",
   "metadata": {},
   "source": [
    "# Condizioni\n",
    "\n",
    "attraverso la keyword `if` possiamo modificare il comportamento dell'applicazione\n",
    "\n",
    "`and` \n",
    "\n",
    "`or`\n",
    "\n",
    "`in`"
   ]
  },
  {
   "cell_type": "markdown",
   "metadata": {},
   "source": [
    "### 1) Semplici condizioni\n",
    "\n",
    "```python\n",
    "if condizione:\n",
    "    istruzioni\n",
    "```"
   ]
  },
  {
   "cell_type": "code",
   "execution_count": 7,
   "metadata": {},
   "outputs": [
    {
     "name": "stdout",
     "output_type": "stream",
     "text": [
      "y minore di 10\n"
     ]
    }
   ],
   "source": [
    "y = 1\n",
    "if y < 10:\n",
    "    print(\"y minore di 10\")"
   ]
  },
  {
   "cell_type": "markdown",
   "metadata": {},
   "source": [
    "### 2) utilizzo di if-elsif-else\n",
    "\n",
    "```python\n",
    "if condizione:\n",
    "    istruzione\n",
    "elif condizione2:\n",
    "    istruzione2\n",
    "else:\n",
    "    istruzione3\n",
    "```"
   ]
  },
  {
   "cell_type": "code",
   "execution_count": 11,
   "metadata": {},
   "outputs": [
    {
     "name": "stdin",
     "output_type": "stream",
     "text": [
      "inserisci valore da verificare:  100\n"
     ]
    },
    {
     "name": "stdout",
     "output_type": "stream",
     "text": [
      "maggiore o uguale a 100\n"
     ]
    }
   ],
   "source": [
    "v = int(input(\"inserisci valore da verificare: \"))\n",
    "if  v < 10:\n",
    "    print(\"minore di 10\")\n",
    "elif v > 10 and v < 100:\n",
    "    print(\"maggiore di 10 ma minore di 100\")\n",
    "else:\n",
    "    print(\"maggiore o uguale a 100\")\n",
    "    \n",
    "# "
   ]
  },
  {
   "cell_type": "markdown",
   "metadata": {},
   "source": [
    "### 3) if annidati\n",
    "\n",
    "attraverso l'indentazione, possiamo annidare molteplici condizioni:\n",
    "\n",
    "```python\n",
    "if condizione:\n",
    "    if  condizione2:\n",
    "        if condizione3:\n",
    "            istruzione\n",
    "    else:\n",
    "        istruzione_2\n",
    "```"
   ]
  },
  {
   "cell_type": "code",
   "execution_count": 1,
   "metadata": {},
   "outputs": [
    {
     "name": "stdin",
     "output_type": "stream",
     "text": [
      "inserisci valore:  10\n"
     ]
    },
    {
     "name": "stdout",
     "output_type": "stream",
     "text": [
      "numero maggiore di 0\n"
     ]
    }
   ],
   "source": [
    "n = int(input(\"inserisci valore: \"))\n",
    "\n",
    "if n == 0:\n",
    "    print(\"zero\")\n",
    "else:\n",
    "    if n < 0:\n",
    "        print(\"numero negativo\")\n",
    "    else:\n",
    "        print(\"numero maggiore di 0\")"
   ]
  },
  {
   "cell_type": "markdown",
   "metadata": {},
   "source": [
    "### 3) utilizzo di if-elif-else al posto di switch (per chi viene da altri linguaggi di programmazione)\n",
    "\n",
    "Molti linguaggi  di programazione utilizzano il costrutto `switch-case` \n",
    "e \n",
    "\n",
    "- linguaggio c\n",
    "\n",
    "    ```c\n",
    "    #include <stdio.h>\n",
    "\n",
    "    int main(void){\n",
    "        char i = 'a';\n",
    "        switch(i){\n",
    "            case 'a':\n",
    "                printf(\"match A!\\n\"); \n",
    "                break;\n",
    "            /* caseX: */\n",
    "            default:\n",
    "                printf(\"not found!\\n\");\n",
    "                break;\n",
    "\n",
    "        }\n",
    "      return  0;\n",
    "    }\n",
    "    ```\n",
    "    \n",
    "- python\n",
    "\n",
    "    ```python\n",
    "    i = 'a'\n",
    "    if i == 'a':\n",
    "        print(\"match A!\")\n",
    "    # elif\n",
    "    else:\n",
    "        print(\"not found!\")\n",
    "    ```\n",
    "    \n",
    "    \n",
    "analizzando il flusso condizionale del listato python ci accorgiamo subito che la sintassi è più o meno identica allo switch, pertanto è stato scelto di non implementare un costrutto dedicato (switch)."
   ]
  },
  {
   "cell_type": "code",
   "execution_count": null,
   "metadata": {},
   "outputs": [],
   "source": []
  }
 ],
 "metadata": {
  "kernelspec": {
   "display_name": "Python 3",
   "language": "python",
   "name": "python3"
  },
  "language_info": {
   "codemirror_mode": {
    "name": "ipython",
    "version": 3
   },
   "file_extension": ".py",
   "mimetype": "text/x-python",
   "name": "python",
   "nbconvert_exporter": "python",
   "pygments_lexer": "ipython3",
   "version": "3.7.4"
  }
 },
 "nbformat": 4,
 "nbformat_minor": 4
}
