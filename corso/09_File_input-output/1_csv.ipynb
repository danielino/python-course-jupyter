{
 "cells": [
  {
   "cell_type": "markdown",
   "metadata": {},
   "source": [
    "# Csv\n",
    "\n",
    "nella cartella data sono presenti svariati file, in questa lezione vedremo come leggere un file csv"
   ]
  },
  {
   "cell_type": "markdown",
   "metadata": {},
   "source": [
    "## Lettura di file"
   ]
  },
  {
   "cell_type": "markdown",
   "metadata": {},
   "source": [
    "### utilizzo di readlines()\n",
    "\n",
    "**N.B. utilizzare solo con file piccoli.**\n",
    "\n",
    "readlines() ritorna l'intero files e lo carica tutto in memoria ram.\n",
    "è subito evidente che applicando readlines() ad un file >1GB può causare seri problemi di performance e di esaurimento delle risorse"
   ]
  },
  {
   "cell_type": "code",
   "execution_count": 14,
   "metadata": {},
   "outputs": [
    {
     "name": "stdout",
     "output_type": "stream",
     "text": [
      "\"JAN\",  340,  360,  417\n",
      "\"FEB\",  318,  342,  391\n",
      "\"MAR\",  362,  406,  419\n",
      "\"APR\",  348,  396,  461\n",
      "\"MAY\",  363,  420,  472\n",
      "\"JUN\",  435,  472,  535\n",
      "\"JUL\",  491,  548,  622\n",
      "\"AUG\",  505,  559,  606\n",
      "\"SEP\",  404,  463,  508\n",
      "\"OCT\",  359,  407,  461\n",
      "\"NOV\",  310,  362,  390\n",
      "\"DEC\",  337,  405,  432\n",
      "\n"
     ]
    }
   ],
   "source": [
    "\n",
    "# apro un file in modalità lettura\n",
    "fp = open(\"data/airtravel.csv\")\n",
    "\n",
    "# leggo tutte le linee (ritorna una lista, ogni elemento corrisponde ad una riga del file)\n",
    "linee = fp.readlines()\n",
    "# chiamare sempre il close quando si terminano le operazioni sul file\n",
    "fp.close()\n",
    "\n",
    "header = linee[0]\n",
    "for item in linee[1:]:\n",
    "    print(item.strip())\n"
   ]
  },
  {
   "cell_type": "markdown",
   "metadata": {},
   "source": [
    "### iterare l'oggetto generato dalla chiamata open()"
   ]
  },
  {
   "cell_type": "code",
   "execution_count": 16,
   "metadata": {},
   "outputs": [
    {
     "name": "stdout",
     "output_type": "stream",
     "text": [
      "<class '_io.TextIOWrapper'>\n",
      "\"Month\", \"1958\", \"1959\", \"1960\"\n",
      "\"JAN\",  340,  360,  417\n",
      "\"FEB\",  318,  342,  391\n",
      "\"MAR\",  362,  406,  419\n",
      "\"APR\",  348,  396,  461\n",
      "\"MAY\",  363,  420,  472\n",
      "\"JUN\",  435,  472,  535\n",
      "\"JUL\",  491,  548,  622\n",
      "\"AUG\",  505,  559,  606\n",
      "\"SEP\",  404,  463,  508\n",
      "\"OCT\",  359,  407,  461\n",
      "\"NOV\",  310,  362,  390\n",
      "\"DEC\",  337,  405,  432\n",
      "\n"
     ]
    }
   ],
   "source": [
    "fp = open(\"data/airtravel.csv\")\n",
    "for item in fp:\n",
    "    print(item.strip())"
   ]
  },
  {
   "cell_type": "markdown",
   "metadata": {},
   "source": [
    "come mai è possibile iterare l'oggetto?\n",
    "semplice, ricordate i magic methods delle classi?\n",
    "\n",
    "`def __iter__(...)` ci permette di definire cosa ritornare quando si chiama attraverso un iteratore l'oggetto corrente `for`"
   ]
  },
  {
   "cell_type": "code",
   "execution_count": 33,
   "metadata": {},
   "outputs": [
    {
     "name": "stdout",
     "output_type": "stream",
     "text": [
      "0\n",
      "1\n",
      "2\n",
      "l'elemento non è un iteratore, devi implementare il metodo __next__\n",
      "0\n",
      "1\n",
      "2\n"
     ]
    }
   ],
   "source": [
    "class Test:\n",
    "    def __init__(self, max=10):\n",
    "        self.items = range(max)\n",
    "        \n",
    "    # definiamo l'iteratore\n",
    "    def __iter__(self):\n",
    "        yield from self.items\n",
    "        \n",
    "for item in Test(3):\n",
    "    print(item)\n",
    "    \n",
    "try:\n",
    "    t = Test()\n",
    "    next(t)\n",
    "except:\n",
    "    print(\"l'elemento non è un iteratore, devi implementare il metodo __next__\")\n",
    "    \n",
    "    \n",
    "class TestWithNext(Test):\n",
    "    \n",
    "    def __init__(self, *args, **kwargs):\n",
    "        self.current = 0\n",
    "        super().__init__(**kwargs)\n",
    "        \n",
    "    def __next__(self):\n",
    "        if self.current < len(self.items):\n",
    "            obj =self.items[self.current]\n",
    "            self.current += 1\n",
    "            return obj\n",
    "        raise StopIteration\n",
    "        \n",
    "n = TestWithNext(1)\n",
    "print(next(n))\n",
    "print(next(n))\n",
    "print(next(n))\n"
   ]
  },
  {
   "cell_type": "code",
   "execution_count": null,
   "metadata": {},
   "outputs": [],
   "source": []
  }
 ],
 "metadata": {
  "kernelspec": {
   "display_name": "Python 3",
   "language": "python",
   "name": "python3"
  },
  "language_info": {
   "codemirror_mode": {
    "name": "ipython",
    "version": 3
   },
   "file_extension": ".py",
   "mimetype": "text/x-python",
   "name": "python",
   "nbconvert_exporter": "python",
   "pygments_lexer": "ipython3",
   "version": "3.7.4"
  }
 },
 "nbformat": 4,
 "nbformat_minor": 4
}
