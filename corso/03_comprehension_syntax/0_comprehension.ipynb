{
 "cells": [
  {
   "cell_type": "markdown",
   "metadata": {},
   "source": [
    "# Comprehensions syntax\n",
    "\n",
    "la `comprehensions syntax` ci permette attraverso una sintassi semplice, di creare delle liste, tuple, ..."
   ]
  },
  {
   "cell_type": "markdown",
   "metadata": {},
   "source": [
    "## 1) List Comprehension\n"
   ]
  },
  {
   "cell_type": "code",
   "execution_count": 30,
   "metadata": {},
   "outputs": [
    {
     "name": "stdout",
     "output_type": "stream",
     "text": [
      "[2, 4, 6, 8, 10, 12, 14, 16, 18]\n"
     ]
    }
   ],
   "source": [
    "data = []\n",
    "for item in range(1,20):\n",
    "    if item % 2 == 0:\n",
    "        data.append(item)\n",
    "print(data)"
   ]
  },
  {
   "cell_type": "code",
   "execution_count": 31,
   "metadata": {},
   "outputs": [
    {
     "name": "stdout",
     "output_type": "stream",
     "text": [
      "[2, 4, 6, 8, 10, 12, 14, 16, 18]\n"
     ]
    }
   ],
   "source": [
    "# produce lo stesso risultato del listato precedente\n",
    "print([x for x in range(1,20) if x % 2 == 0])"
   ]
  },
  {
   "cell_type": "markdown",
   "metadata": {},
   "source": [
    "## 2) Dict Comprehension"
   ]
  },
  {
   "cell_type": "code",
   "execution_count": 32,
   "metadata": {},
   "outputs": [
    {
     "name": "stdout",
     "output_type": "stream",
     "text": [
      "{'a': 1, 'c': 3}\n",
      "{0: 0, 1: 1, 2: 4, 3: 9, 4: 16, 5: 25, 6: 36, 7: 49, 8: 64, 9: 81}\n"
     ]
    }
   ],
   "source": [
    "values = { \n",
    "    \"a\" : 1,\n",
    "    \"b\" : 2,\n",
    "    \"c\" : 3\n",
    "}\n",
    "\n",
    "# ottengo gli elementi il cui valore è dispari\n",
    "print({key: val for key, val in values.items() if val %2 == 1})\n",
    "\n",
    "# ottengo un dizionario dove la chiave è il numero, mentre il valore è il risultato della potenza di 2 della chiave \n",
    "# ( chiave: 2 , valore: 2 ** 2 ==\n",
    "print({x: x**2 for x in range(0,10)})"
   ]
  },
  {
   "cell_type": "markdown",
   "metadata": {},
   "source": [
    "## 3) Set Comprehension"
   ]
  },
  {
   "cell_type": "code",
   "execution_count": 76,
   "metadata": {},
   "outputs": [
    {
     "name": "stdout",
     "output_type": "stream",
     "text": [
      "[5, 6, 9, 10, 11, 14, 15, 16, 17, 19]\n",
      "[4, 7, 8, 10, 11, 13, 15, 17, 19, 20]\n",
      "[4, 5, 8, 12, 13, 14, 15, 17, 18, 20]\n",
      "[4, 6, 7, 10, 12, 14, 15, 16, 17, 20]\n",
      "[6, 8, 9, 12, 13, 14, 16, 17, 18, 19]\n",
      "[4, 6, 7, 12, 14, 15, 17, 19, 20, 21]\n",
      "[4, 6, 7, 9, 10, 12, 13, 15, 16, 17]\n",
      "[3, 5, 6, 7, 10, 11, 12, 13, 16, 17]\n",
      "[5, 6, 10, 11, 12, 14, 16, 17, 18, 19]\n",
      "[2, 5, 8, 10, 11, 12, 14, 17, 18, 19]\n"
     ]
    }
   ],
   "source": [
    "import random\n",
    "import time\n",
    "random.seed(time.time())\n",
    "\n",
    "for i in range(0,10):\n",
    "    print(sorted({random.randint(x, x + 10) for x in range(1,89)})[:10])\n"
   ]
  },
  {
   "cell_type": "code",
   "execution_count": null,
   "metadata": {},
   "outputs": [],
   "source": []
  },
  {
   "cell_type": "code",
   "execution_count": null,
   "metadata": {},
   "outputs": [],
   "source": []
  }
 ],
 "metadata": {
  "kernelspec": {
   "display_name": "Python 3",
   "language": "python",
   "name": "python3"
  },
  "language_info": {
   "codemirror_mode": {
    "name": "ipython",
    "version": 3
   },
   "file_extension": ".py",
   "mimetype": "text/x-python",
   "name": "python",
   "nbconvert_exporter": "python",
   "pygments_lexer": "ipython3",
   "version": "3.7.4"
  }
 },
 "nbformat": 4,
 "nbformat_minor": 4
}
