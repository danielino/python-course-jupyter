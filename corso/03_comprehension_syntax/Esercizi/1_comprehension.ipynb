{
 "cells": [
  {
   "cell_type": "markdown",
   "metadata": {},
   "source": [
    "# Esercizi Comprehension Syntax\n"
   ]
  },
  {
   "cell_type": "markdown",
   "metadata": {},
   "source": [
    "## 1) List Comprehension\n"
   ]
  },
  {
   "cell_type": "code",
   "execution_count": 5,
   "metadata": {},
   "outputs": [],
   "source": [
    "# generare una lista di numeri positivi pari compresa tra 1 e 20 incluso\n",
    "\n",
    "\n",
    "\n",
    "\n",
    "#######################\n",
    "# tests - non toccare #\n",
    "#######################\n",
    "assert len(numeri_pari) == 10\n",
    "assert numeri_pari[0] == 2\n",
    "assert numeri_pari[-1] == 20"
   ]
  },
  {
   "cell_type": "markdown",
   "metadata": {},
   "source": [
    "## 2) Dict Comprehension\n",
    "\n",
    "\n",
    "in questo esercizio sarà necessario utilizzare la dict comprehension che si alimenti attraverso una list comprehenesion\n",
    "\n",
    "**hint:**\n",
    "servono 2 comprehension syntax, dict e list"
   ]
  },
  {
   "cell_type": "code",
   "execution_count": 14,
   "metadata": {},
   "outputs": [
    {
     "ename": "AssertionError",
     "evalue": "",
     "output_type": "error",
     "traceback": [
      "\u001b[0;31m---------------------------------------------------------------------------\u001b[0m",
      "\u001b[0;31mAssertionError\u001b[0m                            Traceback (most recent call last)",
      "\u001b[0;32m<ipython-input-14-74be7a151e01>\u001b[0m in \u001b[0;36m<module>\u001b[0;34m\u001b[0m\n\u001b[1;32m      6\u001b[0m \u001b[0mresult\u001b[0m \u001b[0;34m=\u001b[0m \u001b[0;34m{\u001b[0m\u001b[0;34m}\u001b[0m \u001b[0;31m# your code\u001b[0m\u001b[0;34m\u001b[0m\u001b[0;34m\u001b[0m\u001b[0m\n\u001b[1;32m      7\u001b[0m \u001b[0;34m\u001b[0m\u001b[0m\n\u001b[0;32m----> 8\u001b[0;31m \u001b[0;32massert\u001b[0m \u001b[0;34m'Mario'\u001b[0m \u001b[0;32min\u001b[0m \u001b[0mresult\u001b[0m\u001b[0;34m.\u001b[0m\u001b[0mkeys\u001b[0m\u001b[0;34m(\u001b[0m\u001b[0;34m)\u001b[0m\u001b[0;34m\u001b[0m\u001b[0;34m\u001b[0m\u001b[0m\n\u001b[0m\u001b[1;32m      9\u001b[0m \u001b[0;32massert\u001b[0m \u001b[0;34m'Piero'\u001b[0m \u001b[0;32min\u001b[0m \u001b[0mresult\u001b[0m\u001b[0;34m.\u001b[0m\u001b[0mkeys\u001b[0m\u001b[0;34m(\u001b[0m\u001b[0;34m)\u001b[0m\u001b[0;34m\u001b[0m\u001b[0;34m\u001b[0m\u001b[0m\n\u001b[1;32m     10\u001b[0m \u001b[0;34m\u001b[0m\u001b[0m\n",
      "\u001b[0;31mAssertionError\u001b[0m: "
     ]
    }
   ],
   "source": [
    "persone = [\n",
    "    (\"Mario\", \"Rossi\"),\n",
    "    (\"Piero\", \"Bianchi\")\n",
    "]\n",
    "\n",
    "persone = {\n",
    "    \"mario\" : \"rossi\",\n",
    "    \"piero\" : \"bianchi\"\n",
    "}\n",
    "\n",
    "result = {} # your code\n",
    "\n",
    "\n",
    "#######################\n",
    "# tests - non toccare #\n",
    "#######################\n",
    "assert 'Mario' in result.keys()\n",
    "assert 'Piero' in result.keys()\n",
    "\n",
    "assert 'Rossi' in result.values()\n",
    "assert 'Bianchi' in result.values()\n"
   ]
  },
  {
   "cell_type": "markdown",
   "metadata": {},
   "source": [
    "## 3) Set Comprehension\n"
   ]
  },
  {
   "cell_type": "code",
   "execution_count": 1,
   "metadata": {},
   "outputs": [
    {
     "name": "stdout",
     "output_type": "stream",
     "text": [
      "{0, 5, 6, 7, 8, 10, 11, 12, 13}\n"
     ]
    }
   ],
   "source": [
    "import random\n",
    "\n",
    "# modificare il listato per utilizzare la set comprehension\n",
    "data = {random.randint(0, 15) for x in range(0,20)}\n",
    "\n",
    "print(data)\n",
    "\n",
    "#######################\n",
    "# tests - non toccare #\n",
    "#######################\n",
    "assert type(data) == set"
   ]
  },
  {
   "cell_type": "code",
   "execution_count": null,
   "metadata": {},
   "outputs": [],
   "source": []
  }
 ],
 "metadata": {
  "kernelspec": {
   "display_name": "Python 3",
   "language": "python",
   "name": "python3"
  },
  "language_info": {
   "codemirror_mode": {
    "name": "ipython",
    "version": 3
   },
   "file_extension": ".py",
   "mimetype": "text/x-python",
   "name": "python",
   "nbconvert_exporter": "python",
   "pygments_lexer": "ipython3",
   "version": "3.7.4"
  }
 },
 "nbformat": 4,
 "nbformat_minor": 4
}
