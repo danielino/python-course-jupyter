{
 "cells": [
  {
   "cell_type": "markdown",
   "metadata": {},
   "source": [
    "# Standard Library\n",
    "\n",
    "la standard library di python (librerie incluse con l'interprete), dispone di una notevole quantità di librerie che ci aiutano a svolgere tanti compiti.\n",
    "                               \n",
    "reference: https://docs.python.org/3/library/"
   ]
  },
  {
   "cell_type": "markdown",
   "metadata": {},
   "source": [
    "## Libreria os"
   ]
  },
  {
   "cell_type": "code",
   "execution_count": 12,
   "metadata": {},
   "outputs": [
    {
     "name": "stdout",
     "output_type": "stream",
     "text": [
      "creazione directory\n",
      "entra in mydir/\n",
      "stampa directory corrente\n",
      "/jupyter/corso/06_helpers/mydir\n",
      "torna indietro\n",
      "rimuovi directory\n"
     ]
    }
   ],
   "source": [
    "import os\n",
    "\n",
    "print(\"creazione directory\")\n",
    "os.mkdir(\"mydir\")\n",
    "\n",
    "print(\"entra in mydir/\")\n",
    "os.chdir(\"mydir\")\n",
    "\n",
    "print(\"stampa directory corrente\")\n",
    "print(os.getcwd())\n",
    "\n",
    "print(\"torna indietro\")\n",
    "os.chdir(\"..\")\n",
    "\n",
    "print(\"rimuovi directory\")\n",
    "os.rmdir(\"mydir\")"
   ]
  },
  {
   "cell_type": "markdown",
   "metadata": {},
   "source": [
    "### verifica esistenza file (file,link,directory)"
   ]
  },
  {
   "cell_type": "code",
   "execution_count": 17,
   "metadata": {},
   "outputs": [],
   "source": [
    "if os.path.isfile(\"file\"):\n",
    "    print(\"file trovato\")\n",
    "    \n",
    "if os.path.isdir(\"directory\"):\n",
    "    print(\"directory trovata\")\n",
    "    \n",
    "if os.path.islink(\"link\"):\n",
    "    print(\"link trovato\")"
   ]
  },
  {
   "cell_type": "markdown",
   "metadata": {},
   "source": [
    "### manipolazione files"
   ]
  },
  {
   "cell_type": "code",
   "execution_count": 23,
   "metadata": {},
   "outputs": [],
   "source": [
    "# creazione file\n",
    "with open(\"file\", \"w+\") as fp:\n",
    "    fp.write(\"\")\n",
    "    \n",
    "os.chmod(\"file\", mode=0o600)\n",
    "os.remove(\"file\")\n"
   ]
  },
  {
   "cell_type": "code",
   "execution_count": null,
   "metadata": {},
   "outputs": [],
   "source": []
  }
 ],
 "metadata": {
  "kernelspec": {
   "display_name": "Python 3",
   "language": "python",
   "name": "python3"
  },
  "language_info": {
   "codemirror_mode": {
    "name": "ipython",
    "version": 3
   },
   "file_extension": ".py",
   "mimetype": "text/x-python",
   "name": "python",
   "nbconvert_exporter": "python",
   "pygments_lexer": "ipython3",
   "version": "3.7.4"
  }
 },
 "nbformat": 4,
 "nbformat_minor": 4
}
