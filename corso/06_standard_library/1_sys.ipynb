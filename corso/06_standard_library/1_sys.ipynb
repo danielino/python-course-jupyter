{
 "cells": [
  {
   "cell_type": "markdown",
   "metadata": {},
   "source": [
    "# libreria sys"
   ]
  },
  {
   "cell_type": "code",
   "execution_count": 4,
   "metadata": {},
   "outputs": [
    {
     "name": "stdout",
     "output_type": "stream",
     "text": [
      "/jupyter/corso/06_standard_library\n",
      "/usr/local/lib/python37.zip\n",
      "/usr/local/lib/python3.7\n",
      "/usr/local/lib/python3.7/lib-dynload\n",
      "\n",
      "/jupyter/.venv/lib/python3.7/site-packages\n",
      "/jupyter/.venv/lib/python3.7/site-packages/IPython/extensions\n",
      "/jupyter/.ipython\n"
     ]
    }
   ],
   "source": [
    "import sys\n",
    "\n",
    "print(\"\\n\".join(sys.path))"
   ]
  },
  {
   "cell_type": "code",
   "execution_count": 10,
   "metadata": {},
   "outputs": [
    {
     "data": {
      "text/plain": [
       "'linux'"
      ]
     },
     "execution_count": 10,
     "metadata": {},
     "output_type": "execute_result"
    }
   ],
   "source": [
    "sys.platform"
   ]
  },
  {
   "cell_type": "code",
   "execution_count": 11,
   "metadata": {},
   "outputs": [
    {
     "data": {
      "text/plain": [
       "['/jupyter/.venv/lib/python3.7/site-packages/ipykernel_launcher.py',\n",
       " '-f',\n",
       " '/jupyter/.local/share/jupyter/runtime/kernel-91ac5b6c-f792-4ee4-bba0-796c8526263c.json']"
      ]
     },
     "execution_count": 11,
     "metadata": {},
     "output_type": "execute_result"
    }
   ],
   "source": [
    "sys.argv"
   ]
  },
  {
   "cell_type": "code",
   "execution_count": null,
   "metadata": {},
   "outputs": [],
   "source": []
  }
 ],
 "metadata": {
  "kernelspec": {
   "display_name": "Python 3",
   "language": "python",
   "name": "python3"
  },
  "language_info": {
   "codemirror_mode": {
    "name": "ipython",
    "version": 3
   },
   "file_extension": ".py",
   "mimetype": "text/x-python",
   "name": "python",
   "nbconvert_exporter": "python",
   "pygments_lexer": "ipython3",
   "version": "3.7.4"
  }
 },
 "nbformat": 4,
 "nbformat_minor": 4
}
