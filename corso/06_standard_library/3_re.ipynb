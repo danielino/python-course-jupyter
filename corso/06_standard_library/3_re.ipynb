{
 "cells": [
  {
   "cell_type": "markdown",
   "metadata": {},
   "source": [
    "# re - regular expression engine"
   ]
  },
  {
   "cell_type": "code",
   "execution_count": 5,
   "metadata": {},
   "outputs": [
    {
     "name": "stdout",
     "output_type": "stream",
     "text": [
      "True\n",
      "True\n"
     ]
    }
   ],
   "source": [
    "import re\n",
    "\n",
    "mystring = \"2020-01-01 - email@example.com\"\n",
    "\n",
    "def verify_email(email):\n",
    "    # definisco la regular expression\n",
    "    re_email = re.compile(r\"^\\w+([\\.-]?\\w+)*@\\w+([\\.-]?\\w+)*(\\.\\w{2,3})+$\")\n",
    "    # cerco la corrispondenza\n",
    "    if re_email.findall(email):\n",
    "        return True\n",
    "    return False\n",
    "    \n",
    "\n",
    "print(verify_email(\"email@example.com\"))\n",
    "# non valido\n",
    "print(verify_email(\"email_email@example.it\"))"
   ]
  },
  {
   "cell_type": "code",
   "execution_count": null,
   "metadata": {},
   "outputs": [],
   "source": []
  }
 ],
 "metadata": {
  "kernelspec": {
   "display_name": "Python 3",
   "language": "python",
   "name": "python3"
  },
  "language_info": {
   "codemirror_mode": {
    "name": "ipython",
    "version": 3
   },
   "file_extension": ".py",
   "mimetype": "text/x-python",
   "name": "python",
   "nbconvert_exporter": "python",
   "pygments_lexer": "ipython3",
   "version": "3.7.4"
  }
 },
 "nbformat": 4,
 "nbformat_minor": 4
}
