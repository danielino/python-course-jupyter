{
 "cells": [
  {
   "cell_type": "markdown",
   "metadata": {},
   "source": [
    "# Funzioni\n",
    "\n",
    "Una funzione è un costrutto sintattico che permette di raggruppare una sequenza di azioni all’interno di un unico blocco.\n",
    "Le funzioni ci permettono di evitare di riscrivere interi blocchi di codice più volte nello stesso programa, andando a definire in moduli detti «librerie».\n",
    "\n",
    "\n",
    "```python\n",
    "def connetti_database():\n",
    "    print(\"connessione in corso\")\n",
    "    connect() # richiamo altra funzione\n",
    "    print(\"connessione stabilita\")\n",
    "    \n",
    "connetti_database()\n",
    "```"
   ]
  },
  {
   "cell_type": "markdown",
   "metadata": {},
   "source": [
    "## 1) Funzioni parametrizzate\n",
    "\n",
    "nella scrittura delle funzioni, possiamo definire dei parametri in modo da adattare il codice alle diverse esigenze.\n"
   ]
  },
  {
   "cell_type": "code",
   "execution_count": 4,
   "metadata": {},
   "outputs": [
    {
     "name": "stdout",
     "output_type": "stream",
     "text": [
      "ciao marco!\n",
      "ciao gianni!\n"
     ]
    }
   ],
   "source": [
    "# parametro persona di tipologia stringa\n",
    "def saluta(persona: str):\n",
    "    print(f\"ciao {persona}!\")\n",
    "    \n",
    "saluta(\"marco\")\n",
    "saluta(\"gianni\")"
   ]
  },
  {
   "cell_type": "markdown",
   "metadata": {},
   "source": [
    "## 2) Funzioni con ritorno\n",
    "il \"ritorno\" di funzione, permette di ricevere in output dei valori e valorizzare delle variabili"
   ]
  },
  {
   "cell_type": "code",
   "execution_count": 9,
   "metadata": {},
   "outputs": [
    {
     "name": "stdout",
     "output_type": "stream",
     "text": [
      "11.75\n"
     ]
    }
   ],
   "source": [
    "# la funzione accetta due parametri che verranno sommati\n",
    "def somma(a, b):\n",
    "    return a + b\n",
    "\n",
    "calcolo_somma = somma(1.25, 10.5)\n",
    "print(calcolo_somma)"
   ]
  },
  {
   "cell_type": "markdown",
   "metadata": {},
   "source": [
    "## 3) Funzioni tipizzate\n",
    "\n",
    "python non è un linguaggio tipizzato, significa che non è necessario dichiarare il tipo di variabile per inizializzarla.\n",
    "\n",
    "- linguaggio c\n",
    "    ```c\n",
    "    # c code\n",
    "\n",
    "    int i = 0;\n",
    "\n",
    "    int main(void){\n",
    "        printf(\"valore di i: %d\\n\", i)\n",
    "        return 0\n",
    "    }\n",
    "    ```\n",
    "- linguaggio python\n",
    "    ```python\n",
    "    # python code\n",
    "    i = 0\n",
    "    # il tipo della variabile i viene convertito da `int` a `str`\n",
    "    i = \"abc\"\n",
    "    ```\n",
    "    \n",
    "dalla versione 3.6 python permette di utilizzare lo `static typing`, ovvero possiamo definire i tipi di parametri da passare alle funzioni.\n",
    "\n",
    "**attenzione** perchè l'interprete non esegue nessuna verifica, è utile solamente ai fini  di documentazione del codice e di autocompletamento attraverso un IDE (pycharm, vscode, ...)\n",
    "\n",
    "attraverso la libreria [mypy](http://mypy-lang.org/) è possibile verifica l'integrità del codice."
   ]
  },
  {
   "cell_type": "code",
   "execution_count": 13,
   "metadata": {},
   "outputs": [
    {
     "data": {
      "text/plain": [
       "'10.1str'"
      ]
     },
     "execution_count": 13,
     "metadata": {},
     "output_type": "execute_result"
    }
   ],
   "source": [
    "# definizione di 2 parametri di tipologia float\n",
    "# la  funzione ritorna un float\n",
    "def somma(a: float, b: float) -> float:\n",
    "    return a + b\n",
    "\n",
    "somma(\"10.1\", \"str\") # produce la  stringa  '10.1str'\n"
   ]
  },
  {
   "cell_type": "markdown",
   "metadata": {},
   "source": [
    "### mypy\n",
    "\n",
    "attraverso mypy possiamo verificare l'integrità:\n",
    "\n",
    "- **creazione file sum.py**\n",
    "\n",
    "    ```python\n",
    "    # sum.py\n",
    "\n",
    "    def somma(a: float, b: float) -> float:\n",
    "        return a + b\n",
    "\n",
    "    somma(10.2, 2)\n",
    "    ```\n",
    "\n",
    "- **esecuzione di mypy**\n",
    "\n",
    "    ```\n",
    "    ➜  ~ mypy sum.py\n",
    "    sum.py:8: error: Argument 1 to \"somma\" has incompatible type \"float\"; expected \"int\"\n",
    "    Found 1 error in 1 file (checked 1 source file)\n",
    "    ➜  ~ \n",
    "    ```"
   ]
  },
  {
   "cell_type": "code",
   "execution_count": null,
   "metadata": {},
   "outputs": [],
   "source": []
  }
 ],
 "metadata": {
  "kernelspec": {
   "display_name": "Python 3",
   "language": "python",
   "name": "python3"
  },
  "language_info": {
   "codemirror_mode": {
    "name": "ipython",
    "version": 3
   },
   "file_extension": ".py",
   "mimetype": "text/x-python",
   "name": "python",
   "nbconvert_exporter": "python",
   "pygments_lexer": "ipython3",
   "version": "3.7.4"
  }
 },
 "nbformat": 4,
 "nbformat_minor": 4
}
