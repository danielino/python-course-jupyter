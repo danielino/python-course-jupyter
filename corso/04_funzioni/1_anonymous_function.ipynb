{
 "cells": [
  {
   "cell_type": "markdown",
   "metadata": {},
   "source": [
    "# Funzioni  Anonime\n",
    "\n",
    "attraverso la keyword lambda possiamo definire delle azioni anonime."
   ]
  },
  {
   "cell_type": "code",
   "execution_count": 4,
   "metadata": {},
   "outputs": [
    {
     "name": "stdout",
     "output_type": "stream",
     "text": [
      "10\n"
     ]
    }
   ],
   "source": [
    "ritorna10 = lambda: 10\n",
    "\n",
    "print(ritorna10()) # 10"
   ]
  },
  {
   "cell_type": "markdown",
   "metadata": {},
   "source": [
    "## 1) lambda parametriche\n",
    "\n",
    "nella definizione della lambda possiamo definire i parametri"
   ]
  },
  {
   "cell_type": "code",
   "execution_count": 7,
   "metadata": {},
   "outputs": [
    {
     "name": "stdout",
     "output_type": "stream",
     "text": [
      "11\n"
     ]
    }
   ],
   "source": [
    "aggiungi10 = lambda x: x + 10\n",
    "\n",
    "print(aggiungi10(1))"
   ]
  },
  {
   "cell_type": "code",
   "execution_count": 8,
   "metadata": {},
   "outputs": [
    {
     "data": {
      "text/plain": [
       "[1]"
      ]
     },
     "execution_count": 8,
     "metadata": {},
     "output_type": "execute_result"
    }
   ],
   "source": [
    "ricerca = lambda x, v: [i for i in v if i == x]\n",
    "\n",
    "ricerca(1, [1,2,3,4])"
   ]
  },
  {
   "cell_type": "markdown",
   "metadata": {},
   "source": [
    "## 2) utilizzo pratico delle lambda\n",
    "\n",
    "ordinare una lista di dizionari non è molto semplice, va iterata la lista e vanno applicati degli algoritmi di ricerca in base alla chiave da ordinare.\n",
    "\n",
    "attraverso lambda e la funzione built-in `sorted` , ordinare una lista di dizionari è un gioco da ragazzi:"
   ]
  },
  {
   "cell_type": "code",
   "execution_count": 32,
   "metadata": {},
   "outputs": [
    {
     "name": "stdout",
     "output_type": "stream",
     "text": [
      "The memory_profiler extension is already loaded. To reload it, use:\n",
      "  %reload_ext memory_profiler\n",
      "lista non ordinata: \n",
      "[1, 6, 4, 12, 11, 5, 9]\n",
      "CPU times: user 69 µs, sys: 23 µs, total: 92 µs\n",
      "Wall time: 93 µs\n",
      "\n",
      "lista ordinata\n",
      "[1, 4, 5, 6, 9, 11, 12]\n",
      "CPU times: user 145 µs, sys: 0 ns, total: 145 µs\n",
      "Wall time: 118 µs\n",
      "\n",
      "bubblesort\n",
      "[1, 4, 5, 6, 9, 11, 12]\n",
      "CPU times: user 155 µs, sys: 0 ns, total: 155 µs\n",
      "Wall time: 112 µs\n"
     ]
    }
   ],
   "source": [
    "%load_ext memory_profiler\n",
    "\n",
    "mylist = [\n",
    "    { \"id\" : 1, \"ordine\" : { \"acqua\", \"pizza\" }},\n",
    "    { \"id\" : 6, \"ordine\" : { \"acqua\", \"pizza\" }},\n",
    "    { \"id\" : 4, \"ordine\" : { \"acqua\", \"pizza\" }},\n",
    "    { \"id\" : 12, \"ordine\" : { \"acqua\", \"pizza\" }},\n",
    "    { \"id\" : 11, \"ordine\" : { \"acqua\", \"pizza\" }},\n",
    "    { \"id\" : 5, \"ordine\" : { \"acqua\", \"pizza\" }},\n",
    "    { \"id\" : 9, \"ordine\" : { \"acqua\", \"pizza\" }},\n",
    "]\n",
    "\n",
    "print(\"lista non ordinata: \")\n",
    "%time print([x['id'] for x in mylist])\n",
    "print()\n",
    "\n",
    "print(\"lista ordinata\")\n",
    "# stampa della lista ordinata\n",
    "%time print([x['id'] for x in sorted(mylist, key=lambda i: i['id'])])\n",
    "\n",
    "\n",
    "# algoritmo di ordinamento\n",
    "def bubble_sort(mylist, key):\n",
    "    n = len(mylist)\n",
    "    for item in range(n):\n",
    "        for j in range(0, n - item - 1):\n",
    "            if mylist[j][key] > mylist[j+1][key]:\n",
    "                mylist[j], mylist[j+1] = mylist[j+1], mylist[j]\n",
    "    return mylist\n",
    "\n",
    "print()\n",
    "print(\"bubblesort\")\n",
    "%time print([x['id'] for x in bubble_sort(mylist, \"id\")])\n",
    "\n"
   ]
  },
  {
   "cell_type": "code",
   "execution_count": null,
   "metadata": {},
   "outputs": [],
   "source": []
  }
 ],
 "metadata": {
  "kernelspec": {
   "display_name": "Python 3",
   "language": "python",
   "name": "python3"
  },
  "language_info": {
   "codemirror_mode": {
    "name": "ipython",
    "version": 3
   },
   "file_extension": ".py",
   "mimetype": "text/x-python",
   "name": "python",
   "nbconvert_exporter": "python",
   "pygments_lexer": "ipython3",
   "version": "3.7.4"
  }
 },
 "nbformat": 4,
 "nbformat_minor": 4
}
