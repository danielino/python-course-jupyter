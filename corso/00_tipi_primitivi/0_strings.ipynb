{
 "cells": [
  {
   "cell_type": "markdown",
   "metadata": {},
   "source": [
    "# Python Strings"
   ]
  },
  {
   "cell_type": "markdown",
   "metadata": {},
   "source": [
    "## Introduzione alle stringhe\n"
   ]
  },
  {
   "cell_type": "code",
   "execution_count": 3,
   "metadata": {},
   "outputs": [
    {
     "name": "stdout",
     "output_type": "stream",
     "text": [
      "hello mario rossi!\n",
      "hello mario rossi!\n",
      "hello mario rossi!\n"
     ]
    }
   ],
   "source": [
    "# valorizzazione di 2 variabili\n",
    "name = \"mario\"\n",
    "surname = \"rossi\"\n",
    "\n",
    "# print utilizzando .format() e lista di argomenti\n",
    "print(\"hello {} {}!\".format(name, surname))\n",
    "\n",
    "# print utilizzando .format() con parametri nominali\n",
    "print(\"hello {name} {surname}!\".format(name=name, surname=surname))\n",
    "\n",
    "# print utilizzando f-strings\n",
    "print(f\"hello {name} {surname}!\")"
   ]
  },
  {
   "cell_type": "code",
   "execution_count": null,
   "metadata": {},
   "outputs": [],
   "source": []
  }
 ],
 "metadata": {
  "kernelspec": {
   "display_name": "Python 3",
   "language": "python",
   "name": "python3"
  },
  "language_info": {
   "codemirror_mode": {
    "name": "ipython",
    "version": 3
   },
   "file_extension": ".py",
   "mimetype": "text/x-python",
   "name": "python",
   "nbconvert_exporter": "python",
   "pygments_lexer": "ipython3",
   "version": "3.7.4"
  }
 },
 "nbformat": 4,
 "nbformat_minor": 4
}
