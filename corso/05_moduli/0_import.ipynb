{
 "cells": [
  {
   "cell_type": "markdown",
   "metadata": {},
   "source": [
    "# import\n",
    "\n",
    "per importare delle librerie esterne, si utilizza la keyword `import` \n",
    "\n",
    "```python\n",
    "import nomefile\n",
    "from nomefile import nomefunzione\n",
    "```\n",
    "\n"
   ]
  },
  {
   "cell_type": "code",
   "execution_count": 1,
   "metadata": {},
   "outputs": [
    {
     "name": "stdout",
     "output_type": "stream",
     "text": [
      "/jupyter/corso/05_moduli\n"
     ]
    }
   ],
   "source": [
    "import os\n",
    "\n",
    "print(os.getcwd())"
   ]
  },
  {
   "cell_type": "markdown",
   "metadata": {},
   "source": [
    "## Creazione di moduli da importare"
   ]
  },
  {
   "cell_type": "code",
   "execution_count": 5,
   "metadata": {},
   "outputs": [
    {
     "name": "stdout",
     "output_type": "stream",
     "text": [
      "2020-02-09T18:25:09.595063\n"
     ]
    }
   ],
   "source": [
    "# main.py\n",
    "\n",
    "# dateutils.py\n",
    "from dateutils import get_iso_date\n",
    "\n",
    "print(get_iso_date())"
   ]
  },
  {
   "cell_type": "code",
   "execution_count": 6,
   "metadata": {},
   "outputs": [
    {
     "name": "stdout",
     "output_type": "stream",
     "text": [
      "2020-02-09T18:25:59.864985\n"
     ]
    }
   ],
   "source": [
    "# main.py\n",
    "\n",
    "from library.dateutils import get_iso_date\n",
    "\n",
    "print(get_iso_date())"
   ]
  },
  {
   "cell_type": "markdown",
   "metadata": {},
   "source": [
    "## Librerie eseguibili\n",
    "\n",
    "attraverso un costrutto particolare, è possibile indicare a python le azioni da eseguire qualora un moodulo fosse eseguito come script\n",
    "\n",
    "```python\n",
    "# util.py\n",
    "\n",
    "def my_util_function():\n",
    "    return 1 ** 1\n",
    "\n",
    "\n",
    "def main():\n",
    "    print(\"main action\")\n",
    "\n",
    "if __name__ == \"__main__\":\n",
    "    main()\n",
    "\n",
    "```"
   ]
  },
  {
   "cell_type": "code",
   "execution_count": null,
   "metadata": {},
   "outputs": [],
   "source": []
  }
 ],
 "metadata": {
  "kernelspec": {
   "display_name": "Python 3",
   "language": "python",
   "name": "python3"
  },
  "language_info": {
   "codemirror_mode": {
    "name": "ipython",
    "version": 3
   },
   "file_extension": ".py",
   "mimetype": "text/x-python",
   "name": "python",
   "nbconvert_exporter": "python",
   "pygments_lexer": "ipython3",
   "version": "3.7.4"
  }
 },
 "nbformat": 4,
 "nbformat_minor": 4
}
