{
 "cells": [
  {
   "cell_type": "markdown",
   "metadata": {},
   "source": [
    "# PIP\n",
    "\n",
    "pip è il `package installer for python` che ci permette di installare pacchetti non disponibili nella standard library come ad esempio:\n",
    "\n",
    "- database driver\n",
    "- framework web\n",
    "- i/o utils\n",
    "- ...\n",
    "\n",
    "```bash\n",
    "# pip install requests\n",
    "```"
   ]
  },
  {
   "cell_type": "markdown",
   "metadata": {},
   "source": [
    "## File di requisiti\n",
    "\n",
    "pip supporta l'installazione di pacchetti attraverso un file denominato `requirements.txt`\n",
    "\n",
    "```requirements\n",
    "requests\n",
    "sqlalchemy\n",
    "mysql-client\n",
    "...\n",
    "```\n",
    "\n",
    "```bash\n",
    "# pip install -r requirements.txt\n",
    "```"
   ]
  },
  {
   "cell_type": "markdown",
   "metadata": {},
   "source": [
    "requests è la libreria di support che permette di effettuare chiamate http in maniera semplice.\n",
    "usa come backend la standard library urllib3 che risulta più complessa da usare.\n"
   ]
  },
  {
   "cell_type": "code",
   "execution_count": 23,
   "metadata": {},
   "outputs": [
    {
     "name": "stdout",
     "output_type": "stream",
     "text": [
      "Paul Byrd -> 725000\n",
      "Yuri Berry -> 675000\n",
      "Charde Marshall -> 470600\n",
      "Cedric Kelly -> 433060\n",
      "Tatyana Fitzpatrick -> 385750\n",
      "Brielle Williamson -> 372000\n",
      "Jenette Caldwell -> 345000\n",
      "Quinn Flynn -> 342000\n",
      "Rhona Davidson -> 327900\n",
      "Tiger Nixon -> 320800\n",
      "Haley Kennedy -> 313500\n",
      "Gloria Little -> 237500\n",
      "Dai Rios -> 217500\n",
      "Colleen Hurst -> 205500\n",
      "Michael Silva -> 198500\n",
      "Garrett Winters -> 170750\n",
      "Airi Satou -> 162700\n",
      "Herrod Chandler -> 137500\n",
      "Bradley Greer -> 132000\n",
      "Caesar Vance -> 106450\n",
      "Sonya Frost -> 103600\n",
      "Jena Gaines -> 90560\n",
      "Ashton Cox -> 86000\n",
      "Doris Wilder -> 85600\n"
     ]
    }
   ],
   "source": [
    "import requests\n",
    "import json\n",
    "\n",
    "r = requests.get(\"http://dummy.restapiexample.com/api/v1/employees\", headers={\"user-agent\" : \"curl/7.29.0\"})\n",
    "s = r.json()\n",
    "for item in sorted(s['data'], key = lambda x: int(x['employee_salary']), reverse=True):\n",
    "    print(f\"{item['employee_name']} -> {item['employee_salary']}\")\n",
    "    "
   ]
  },
  {
   "cell_type": "code",
   "execution_count": null,
   "metadata": {},
   "outputs": [],
   "source": []
  }
 ],
 "metadata": {
  "kernelspec": {
   "display_name": "Python 3",
   "language": "python",
   "name": "python3"
  },
  "language_info": {
   "codemirror_mode": {
    "name": "ipython",
    "version": 3
   },
   "file_extension": ".py",
   "mimetype": "text/x-python",
   "name": "python",
   "nbconvert_exporter": "python",
   "pygments_lexer": "ipython3",
   "version": "3.7.4"
  }
 },
 "nbformat": 4,
 "nbformat_minor": 4
}
