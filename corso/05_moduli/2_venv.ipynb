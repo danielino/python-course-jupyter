{
 "cells": [
  {
   "cell_type": "markdown",
   "metadata": {},
   "source": [
    "# Virtualenv\n",
    "\n",
    "i virtualenv permettono di creare degli ambienti isolati di python dove poter installare le librerie senza modificare le directory principali in /usr/lib\n",
    "\n",
    "generalmente si crea un virtualenv per essere sicuri che le dipendenze da noi specificate, rispettino una determinata versinoe con cui abbiamo svolto i test per garantire l'integrità del codice.\n",
    "\n",
    "- **creazione di un virtualenv**\n",
    "\n",
    "    ```bash\n",
    "    # python3.7 -m venv ./venv\n",
    "    # ls ./venv\n",
    "    bin        include    lib        pyvenv.cfg\n",
    "    # \n",
    "    ```\n",
    "    \n",
    "- **attivazione del virtualenv**\n",
    "\n",
    "    una volta creato il virtualenv, possiamo attivarlo attraverso:\n",
    "    \n",
    "    ```bash\n",
    "    # source ./venv/bin/activate\n",
    "    ```\n",
    "    \n",
    "    da questo momento in poi, tutti i pacchettti installati attraverso pip, andranno a finire in ./venv/lib/site-packages\n",
    "    \n",
    "    \n",
    "- **disattivazione venv**\n",
    "\n",
    "    ```bash\n",
    "    # deactivate\n",
    "    ```\n",
    "    \n",
    "- **freeze**\n",
    "    \n",
    "    ```bash\n",
    "    # source venv/bin/activate\n",
    "    # pip install -r requirements.txt\n",
    "    # pip freeze \n",
    "    ```"
   ]
  },
  {
   "cell_type": "code",
   "execution_count": null,
   "metadata": {},
   "outputs": [],
   "source": []
  }
 ],
 "metadata": {
  "kernelspec": {
   "display_name": "Python 3",
   "language": "python",
   "name": "python3"
  },
  "language_info": {
   "codemirror_mode": {
    "name": "ipython",
    "version": 3
   },
   "file_extension": ".py",
   "mimetype": "text/x-python",
   "name": "python",
   "nbconvert_exporter": "python",
   "pygments_lexer": "ipython3",
   "version": "3.7.4"
  }
 },
 "nbformat": 4,
 "nbformat_minor": 4
}
