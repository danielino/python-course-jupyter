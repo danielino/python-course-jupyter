{
 "cells": [
  {
   "cell_type": "markdown",
   "metadata": {},
   "source": [
    "# Exception\n",
    "\n",
    "le eccezioni ci permettono di controllare il flusso del codice, andando a specificare le azioni da eseguire al verificarsi di un errore.\n",
    "\n",
    "```python\n",
    "# il seguente codice genera un eccezione SyntaxError dato che non viene chiusa la parentesi:\n",
    "# SyntaxError: unexpected EOF while parsing \n",
    "print(\"test\" \n",
    " ```"
   ]
  },
  {
   "cell_type": "code",
   "execution_count": 1,
   "metadata": {},
   "outputs": [
    {
     "ename": "SyntaxError",
     "evalue": "unexpected EOF while parsing (<ipython-input-1-98deeb8c376d>, line 1)",
     "output_type": "error",
     "traceback": [
      "\u001b[0;36m  File \u001b[0;32m\"<ipython-input-1-98deeb8c376d>\"\u001b[0;36m, line \u001b[0;32m1\u001b[0m\n\u001b[0;31m    print(\"test\"\u001b[0m\n\u001b[0m                ^\u001b[0m\n\u001b[0;31mSyntaxError\u001b[0m\u001b[0;31m:\u001b[0m unexpected EOF while parsing\n"
     ]
    }
   ],
   "source": [
    "print(\"test\""
   ]
  },
  {
   "cell_type": "markdown",
   "metadata": {},
   "source": [
    "attraverso `try-except-finally` possiamo intercettare gli errori e scatenare delle azioni:\n",
    "\n",
    "- try: blocco di codice\n",
    "- except: operazioni da eseguire se il blocco try ha lanciato eccezione\n",
    "- finally: operazioni che vengono sempre eseguite sia in caso di eccezione che non"
   ]
  },
  {
   "cell_type": "code",
   "execution_count": 6,
   "metadata": {},
   "outputs": [
    {
     "name": "stdout",
     "output_type": "stream",
     "text": [
      "try\n",
      "catch\n",
      "divisione per zero non permessa\n",
      "finally\n",
      "senza try catch\n"
     ]
    },
    {
     "ename": "ZeroDivisionError",
     "evalue": "division by zero",
     "output_type": "error",
     "traceback": [
      "\u001b[0;31m---------------------------------------------------------------------------\u001b[0m",
      "\u001b[0;31mZeroDivisionError\u001b[0m                         Traceback (most recent call last)",
      "\u001b[0;32m<ipython-input-6-ba943ae7a15f>\u001b[0m in \u001b[0;36m<module>\u001b[0;34m\u001b[0m\n\u001b[1;32m     10\u001b[0m \u001b[0;31m#senza try catch\u001b[0m\u001b[0;34m\u001b[0m\u001b[0;34m\u001b[0m\u001b[0;34m\u001b[0m\u001b[0m\n\u001b[1;32m     11\u001b[0m \u001b[0mprint\u001b[0m\u001b[0;34m(\u001b[0m\u001b[0;34m\"senza try catch\"\u001b[0m\u001b[0;34m)\u001b[0m\u001b[0;34m\u001b[0m\u001b[0;34m\u001b[0m\u001b[0m\n\u001b[0;32m---> 12\u001b[0;31m \u001b[0;36m1\u001b[0m \u001b[0;34m/\u001b[0m \u001b[0;36m0\u001b[0m\u001b[0;34m\u001b[0m\u001b[0;34m\u001b[0m\u001b[0m\n\u001b[0m",
      "\u001b[0;31mZeroDivisionError\u001b[0m: division by zero"
     ]
    }
   ],
   "source": [
    "try:\n",
    "    print(\"try\")\n",
    "    1 / 0\n",
    "except ZeroDivisionError:\n",
    "    print(\"catch\")\n",
    "    print(\"divisione per zero non permessa\")\n",
    "finally:\n",
    "    print(\"finally\")\n",
    "\n",
    "#senza try catch\n",
    "print(\"senza try catch\")\n",
    "1 / 0"
   ]
  },
  {
   "cell_type": "markdown",
   "metadata": {},
   "source": [
    "## 1) Lanciare un eccezione\n",
    "\n",
    "in python è possibie scatenare delle azioni attraverso  al keyword `raise` (negli altri linguaggi, come ad esempio java, viene utilizzato `throw new Exception(...)`)\n"
   ]
  },
  {
   "cell_type": "code",
   "execution_count": 8,
   "metadata": {},
   "outputs": [
    {
     "name": "stdout",
     "output_type": "stream",
     "text": [
      "connected\n",
      "errore generale\n",
      "disconnected\n"
     ]
    }
   ],
   "source": [
    "def apri_connessione():\n",
    "    print(\"connected\")\n",
    "    \n",
    "def  chiudi_connessione():\n",
    "    print(\"disconnected\")\n",
    "\n",
    "def mia_funzione():\n",
    "    # ..code..\n",
    "    raise Exception(\"errore generale\")\n",
    "    \n",
    "try:\n",
    "    apri_connessione()    # apriamo la connessione\n",
    "    mia_funzione()        # lanciamo una funzione che genera un eccezione\n",
    "except Exception as e:    # eseguiamo il catch dell'eccezione\n",
    "    print(e)              # viene stampato solo se la funzione precedente scatena un errore\n",
    "finally:\n",
    "    chiudi_connessione()  # chiusura della connessione"
   ]
  },
  {
   "cell_type": "markdown",
   "metadata": {},
   "source": [
    "## 2) Creare classi di eccezioni personalizzate\n",
    "\n",
    "andando a definire una nuova classe che estende l'oggetto Exception, possiamo creare nuove eccezioni\n",
    "\n",
    "```python\n",
    "class MiaEccezione(Exception): \n",
    "    pass\n",
    "```"
   ]
  },
  {
   "cell_type": "code",
   "execution_count": 49,
   "metadata": {},
   "outputs": [
    {
     "name": "stdout",
     "output_type": "stream",
     "text": [
      "giochiamo 10 volte\n",
      "ATTENZIONE: errore non gestito\n",
      "sei stato fortunato!\n",
      "ATTENZIONE: errore non gestito\n",
      "sei stato fortunato!\n",
      "sei stato fortunato!\n",
      "sei stato fortunato!\n",
      "sei stato fortunato!\n",
      "sei stato fortunato!\n",
      "sei stato fortunato!\n",
      "oh! ti è andata male, non puoi più giocare\n"
     ]
    }
   ],
   "source": [
    "import random\n",
    "import time\n",
    "\n",
    "class BangException(Exception):\n",
    "    pass\n",
    "\n",
    "def roulette_russa():\n",
    "    if random.randint(1,1000) % 10 == 0:\n",
    "        raise Exception(\"errore di sistema\")\n",
    "    if random.randint(1,2) == 1:\n",
    "        raise BangException(\"oh no, sei morto!\")\n",
    "    return True\n",
    "\n",
    "print(\"giochiamo 10 volte\")\n",
    "for i in range(0,10):\n",
    "    try:\n",
    "        roulette_russa()\n",
    "        print(\"sei stato fortunato!\")\n",
    "    except BangException:\n",
    "        print(\"oh! ti è andata male, non puoi più giocare\")\n",
    "        break\n",
    "    except Exception:\n",
    "        print(\"ATTENZIONE: errore non gestito\")\n",
    "        \n"
   ]
  },
  {
   "cell_type": "code",
   "execution_count": null,
   "metadata": {},
   "outputs": [],
   "source": []
  },
  {
   "cell_type": "code",
   "execution_count": null,
   "metadata": {},
   "outputs": [],
   "source": []
  }
 ],
 "metadata": {
  "kernelspec": {
   "display_name": "Python 3",
   "language": "python",
   "name": "python3"
  },
  "language_info": {
   "codemirror_mode": {
    "name": "ipython",
    "version": 3
   },
   "file_extension": ".py",
   "mimetype": "text/x-python",
   "name": "python",
   "nbconvert_exporter": "python",
   "pygments_lexer": "ipython3",
   "version": "3.7.4"
  }
 },
 "nbformat": 4,
 "nbformat_minor": 4
}
